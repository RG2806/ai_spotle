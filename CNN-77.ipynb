{
  "nbformat": 4,
  "nbformat_minor": 0,
  "metadata": {
    "colab": {
      "name": "Untitled12.ipynb",
      "provenance": [],
      "authorship_tag": "ABX9TyMgY544fHWjW0UZpFmEqnZD",
      "include_colab_link": true
    },
    "kernelspec": {
      "name": "python3",
      "display_name": "Python 3"
    },
    "accelerator": "GPU"
  },
  "cells": [
    {
      "cell_type": "markdown",
      "metadata": {
        "id": "view-in-github",
        "colab_type": "text"
      },
      "source": [
        "<a href=\"https://colab.research.google.com/github/RG2806/ai_spotle/blob/master/CNN-77.ipynb\" target=\"_parent\"><img src=\"https://colab.research.google.com/assets/colab-badge.svg\" alt=\"Open In Colab\"/></a>"
      ]
    },
    {
      "cell_type": "code",
      "metadata": {
        "id": "VCh_pXZ0Zqz1",
        "colab_type": "code",
        "colab": {
          "base_uri": "https://localhost:8080/",
          "height": 118
        },
        "outputId": "c05224b1-ac50-48f1-a135-f0d5c4afb6cc"
      },
      "source": [
        "!git clone https://github.com/RG2806/ai_spotle.git"
      ],
      "execution_count": 1,
      "outputs": [
        {
          "output_type": "stream",
          "text": [
            "Cloning into 'ai_spotle'...\n",
            "remote: Enumerating objects: 9, done.\u001b[K\n",
            "remote: Counting objects: 100% (9/9), done.\u001b[K\n",
            "remote: Compressing objects: 100% (7/7), done.\u001b[K\n",
            "remote: Total 9 (delta 1), reused 2 (delta 0), pack-reused 0\u001b[K\n",
            "Unpacking objects: 100% (9/9), done.\n"
          ],
          "name": "stdout"
        }
      ]
    },
    {
      "cell_type": "code",
      "metadata": {
        "id": "k2zYZ0IRZ35w",
        "colab_type": "code",
        "colab": {}
      },
      "source": [
        "%matplotlib inline\n",
        "import matplotlib.pyplot as plt\n",
        "\n",
        "import numpy as np\n",
        "from keras.utils import to_categorical\n",
        "from sklearn.model_selection import train_test_split\n",
        "\n",
        "from keras.models import Sequential #Initialise our neural network model as a sequential network\n",
        "from keras.layers import Conv2D #Convolution operation\n",
        "from keras.layers.normalization import BatchNormalization\n",
        "from keras.regularizers import l2\n",
        "from keras.layers import Activation#Applies activation function\n",
        "from keras.layers import Dropout#Prevents overfitting by randomly converting few outputs to zero\n",
        "from keras.layers import MaxPooling2D # Maxpooling function\n",
        "from keras.layers import Flatten # Converting 2D arrays into a 1D linear vector\n",
        "from keras.layers import Dense # Regular fully connected neural network\n",
        "from keras import optimizers\n",
        "from keras.callbacks import ReduceLROnPlateau, EarlyStopping, TensorBoard, ModelCheckpoint\n",
        "from sklearn.metrics import accuracy_score\n",
        "\n",
        "import pandas as pd\n",
        "import keras \n",
        "from keras.models import Sequential\n",
        "from keras.layers import Conv2D, BatchNormalization, GlobalAveragePooling2D, MaxPooling2D, Dropout, Flatten, Dense\n",
        "from keras.callbacks import ModelCheckpoint, EarlyStopping, ReduceLROnPlateau\n",
        "from keras.utils import np_utils\n",
        "import keras.backend as k\n",
        "from keras.preprocessing import image\n",
        "from keras.preprocessing.image import ImageDataGenerator\n",
        "from keras.optimizers import Adam\n",
        "from keras.regularizers import l2\n"
      ],
      "execution_count": 2,
      "outputs": []
    },
    {
      "cell_type": "code",
      "metadata": {
        "id": "khmywcbkbgZD",
        "colab_type": "code",
        "colab": {}
      },
      "source": [
        "def load_data(dataset_path):\n",
        "  \n",
        "  classes = ['Fear', 'Happy', 'Sad']  #We will be dealing with seven different types of emotions.\n",
        "\n",
        "  data = []\n",
        "  labels =[]\n",
        "\n",
        "  with open(dataset_path, 'r') as file:\n",
        "      for line_no, line in enumerate(file.readlines()):\n",
        "          if 0 < line_no <= 35887:\n",
        "            line = line.split(',')\n",
        "            image_data = np.asarray([int(x) for x in line[1:]]).reshape(48, 48)#Creating a list out of the string then converting it into a 2-Dimensional numpy array.\n",
        "            image_data =image_data.astype(np.uint8)/255.0\n",
        "            data.append(image_data)\n",
        "            labels.append(classes.index(line[0]))\n",
        "      data = np.expand_dims(data, -1)   \n",
        "      #labels = to_categorical(labels, num_classes = 3)\n",
        "    \n",
        "      return np.array(data), np.array(labels)"
      ],
      "execution_count": 3,
      "outputs": []
    },
    {
      "cell_type": "code",
      "metadata": {
        "id": "Gt_d1_J8cUU_",
        "colab_type": "code",
        "colab": {
          "base_uri": "https://localhost:8080/",
          "height": 34
        },
        "outputId": "0a7beb09-1725-4394-c565-7f95347725c0"
      },
      "source": [
        "dataset_path = \"/content/ai_spotle/aithon2020_level2_traning.csv\" \n",
        "train_data, train_labels = load_data(dataset_path)\n",
        "#train_data, test_data, train_labels, test_labels = train_test_split(data, labels, test_size = test_size,random_state = seed)\n",
        "\n",
        "print(\"Number of images in Training set:\", len(train_data))"
      ],
      "execution_count": 4,
      "outputs": [
        {
          "output_type": "stream",
          "text": [
            "Number of images in Training set: 10817\n"
          ],
          "name": "stdout"
        }
      ]
    },
    {
      "cell_type": "code",
      "metadata": {
        "id": "CPgk624hfuGI",
        "colab_type": "code",
        "colab": {
          "base_uri": "https://localhost:8080/",
          "height": 34
        },
        "outputId": "492ce822-7d46-4246-e12d-7ba69f52478a"
      },
      "source": [
        "train_labels.shape"
      ],
      "execution_count": 5,
      "outputs": [
        {
          "output_type": "execute_result",
          "data": {
            "text/plain": [
              "(10817,)"
            ]
          },
          "metadata": {
            "tags": []
          },
          "execution_count": 5
        }
      ]
    },
    {
      "cell_type": "code",
      "metadata": {
        "id": "g3uGfxm1cgVA",
        "colab_type": "code",
        "colab": {}
      },
      "source": [
        "from sklearn.model_selection import train_test_split\n",
        "\n",
        "x_train, x_test, y_train, y_test = train_test_split(train_data, train_labels, test_size=0.2, random_state=101)\n",
        "y_train = np_utils.to_categorical(y_train, 3)\n",
        "y_test = np_utils.to_categorical(y_test, 3)"
      ],
      "execution_count": 6,
      "outputs": []
    },
    {
      "cell_type": "code",
      "metadata": {
        "id": "saBwXLdIdwaY",
        "colab_type": "code",
        "colab": {
          "base_uri": "https://localhost:8080/",
          "height": 1000
        },
        "outputId": "60ca9867-4468-4736-b295-2de0ce0a85bd"
      },
      "source": [
        "num_features = 64\n",
        "width, height = 48, 48\n",
        "model = Sequential()\n",
        "\n",
        "model.add(Conv2D(num_features, kernel_size=(3, 3), activation='relu', input_shape=(width, height, 1), data_format='channels_last', kernel_regularizer=l2(0.01)))\n",
        "model.add(Conv2D(num_features, kernel_size=(3, 3), activation='relu', padding='same'))\n",
        "model.add(BatchNormalization())\n",
        "model.add(MaxPooling2D(pool_size=(2, 2), strides=(2, 2)))\n",
        "model.add(Dropout(0.5))\n",
        "\n",
        "model.add(Conv2D(2*num_features, kernel_size=(3, 3), activation='relu', padding='same'))\n",
        "model.add(BatchNormalization())\n",
        "model.add(Conv2D(2*num_features, kernel_size=(3, 3), activation='relu', padding='same'))\n",
        "model.add(BatchNormalization())\n",
        "model.add(MaxPooling2D(pool_size=(2, 2), strides=(2, 2)))\n",
        "model.add(Dropout(0.5))\n",
        "\n",
        "model.add(Conv2D(2*2*num_features, kernel_size=(3, 3), activation='relu', padding='same'))\n",
        "model.add(BatchNormalization())\n",
        "model.add(Conv2D(2*2*num_features, kernel_size=(3, 3), activation='relu', padding='same'))\n",
        "model.add(BatchNormalization())\n",
        "model.add(MaxPooling2D(pool_size=(2, 2), strides=(2, 2)))\n",
        "model.add(Dropout(0.5))\n",
        "\n",
        "model.add(Conv2D(2*2*2*num_features, kernel_size=(3, 3), activation='relu', padding='same'))\n",
        "model.add(BatchNormalization())\n",
        "model.add(Conv2D(2*2*2*num_features, kernel_size=(3, 3), activation='relu', padding='same'))\n",
        "model.add(BatchNormalization())\n",
        "model.add(MaxPooling2D(pool_size=(2, 2), strides=(2, 2)))\n",
        "model.add(Dropout(0.5))\n",
        "\n",
        "model.add(Flatten())\n",
        "\n",
        "model.add(Dense(2*2*2*num_features, activation='relu'))\n",
        "model.add(Dropout(0.4))\n",
        "model.add(Dense(2*2*num_features, activation='relu'))\n",
        "model.add(Dropout(0.4))\n",
        "model.add(Dense(2*num_features, activation='relu'))\n",
        "model.add(Dropout(0.5))\n",
        "\n",
        "model.add(Dense(3, activation='softmax'))\n",
        "model.summary()"
      ],
      "execution_count": 7,
      "outputs": [
        {
          "output_type": "stream",
          "text": [
            "Model: \"sequential\"\n",
            "_________________________________________________________________\n",
            "Layer (type)                 Output Shape              Param #   \n",
            "=================================================================\n",
            "conv2d (Conv2D)              (None, 46, 46, 64)        640       \n",
            "_________________________________________________________________\n",
            "conv2d_1 (Conv2D)            (None, 46, 46, 64)        36928     \n",
            "_________________________________________________________________\n",
            "batch_normalization (BatchNo (None, 46, 46, 64)        256       \n",
            "_________________________________________________________________\n",
            "max_pooling2d (MaxPooling2D) (None, 23, 23, 64)        0         \n",
            "_________________________________________________________________\n",
            "dropout (Dropout)            (None, 23, 23, 64)        0         \n",
            "_________________________________________________________________\n",
            "conv2d_2 (Conv2D)            (None, 23, 23, 128)       73856     \n",
            "_________________________________________________________________\n",
            "batch_normalization_1 (Batch (None, 23, 23, 128)       512       \n",
            "_________________________________________________________________\n",
            "conv2d_3 (Conv2D)            (None, 23, 23, 128)       147584    \n",
            "_________________________________________________________________\n",
            "batch_normalization_2 (Batch (None, 23, 23, 128)       512       \n",
            "_________________________________________________________________\n",
            "max_pooling2d_1 (MaxPooling2 (None, 11, 11, 128)       0         \n",
            "_________________________________________________________________\n",
            "dropout_1 (Dropout)          (None, 11, 11, 128)       0         \n",
            "_________________________________________________________________\n",
            "conv2d_4 (Conv2D)            (None, 11, 11, 256)       295168    \n",
            "_________________________________________________________________\n",
            "batch_normalization_3 (Batch (None, 11, 11, 256)       1024      \n",
            "_________________________________________________________________\n",
            "conv2d_5 (Conv2D)            (None, 11, 11, 256)       590080    \n",
            "_________________________________________________________________\n",
            "batch_normalization_4 (Batch (None, 11, 11, 256)       1024      \n",
            "_________________________________________________________________\n",
            "max_pooling2d_2 (MaxPooling2 (None, 5, 5, 256)         0         \n",
            "_________________________________________________________________\n",
            "dropout_2 (Dropout)          (None, 5, 5, 256)         0         \n",
            "_________________________________________________________________\n",
            "conv2d_6 (Conv2D)            (None, 5, 5, 512)         1180160   \n",
            "_________________________________________________________________\n",
            "batch_normalization_5 (Batch (None, 5, 5, 512)         2048      \n",
            "_________________________________________________________________\n",
            "conv2d_7 (Conv2D)            (None, 5, 5, 512)         2359808   \n",
            "_________________________________________________________________\n",
            "batch_normalization_6 (Batch (None, 5, 5, 512)         2048      \n",
            "_________________________________________________________________\n",
            "max_pooling2d_3 (MaxPooling2 (None, 2, 2, 512)         0         \n",
            "_________________________________________________________________\n",
            "dropout_3 (Dropout)          (None, 2, 2, 512)         0         \n",
            "_________________________________________________________________\n",
            "flatten (Flatten)            (None, 2048)              0         \n",
            "_________________________________________________________________\n",
            "dense (Dense)                (None, 512)               1049088   \n",
            "_________________________________________________________________\n",
            "dropout_4 (Dropout)          (None, 512)               0         \n",
            "_________________________________________________________________\n",
            "dense_1 (Dense)              (None, 256)               131328    \n",
            "_________________________________________________________________\n",
            "dropout_5 (Dropout)          (None, 256)               0         \n",
            "_________________________________________________________________\n",
            "dense_2 (Dense)              (None, 128)               32896     \n",
            "_________________________________________________________________\n",
            "dropout_6 (Dropout)          (None, 128)               0         \n",
            "_________________________________________________________________\n",
            "dense_3 (Dense)              (None, 3)                 387       \n",
            "=================================================================\n",
            "Total params: 5,905,347\n",
            "Trainable params: 5,901,635\n",
            "Non-trainable params: 3,712\n",
            "_________________________________________________________________\n"
          ],
          "name": "stdout"
        }
      ]
    },
    {
      "cell_type": "code",
      "metadata": {
        "id": "TnzubNXee1rY",
        "colab_type": "code",
        "colab": {}
      },
      "source": [
        "model.compile(loss='categorical_crossentropy',\n",
        "              optimizer=Adam(lr=0.001, beta_1=0.9, beta_2=0.999, epsilon=1e-7),\n",
        "              metrics=['accuracy'])\n",
        "\n",
        "lr_reducer = ReduceLROnPlateau(monitor='val_loss', factor=0.9, patience=3, verbose=1)\n",
        "early_stopper = EarlyStopping(monitor='val_loss', min_delta=0, patience=8, verbose=1, mode='auto')\n",
        "checkpointer = ModelCheckpoint('../input/model.h5', monitor='val_loss', verbose=1, save_best_only=True)\n",
        "\n",
        "callbacks = [lr_reducer, early_stopper, checkpointer]"
      ],
      "execution_count": 8,
      "outputs": []
    },
    {
      "cell_type": "code",
      "metadata": {
        "id": "TH8UogCyfJQ1",
        "colab_type": "code",
        "colab": {
          "base_uri": "https://localhost:8080/",
          "height": 1000
        },
        "outputId": "b056df6a-858c-4680-dd3e-92801938e633"
      },
      "source": [
        "# With Augmentation\n",
        "bs = 64\n",
        "epochs = 100\n",
        "\n",
        "aug = ImageDataGenerator(rotation_range=20, \n",
        "                         width_shift_range=0.1, \n",
        "                         height_shift_range=0.1, \n",
        "                         horizontal_flip=True, \n",
        "                         fill_mode=\"nearest\")\n",
        "\n",
        "H = model.fit_generator(aug.flow(x_train, y_train, batch_size=bs),\n",
        "                        validation_data=(x_test, y_test), \n",
        "                        steps_per_epoch=len(x_train)//bs,\n",
        "                        callbacks=callbacks,\n",
        "                        shuffle=True,\n",
        "                        epochs=epochs)"
      ],
      "execution_count": 9,
      "outputs": [
        {
          "output_type": "stream",
          "text": [
            "WARNING:tensorflow:From <ipython-input-9-76fdc12a0745>:16: Model.fit_generator (from tensorflow.python.keras.engine.training) is deprecated and will be removed in a future version.\n",
            "Instructions for updating:\n",
            "Please use Model.fit, which supports generators.\n",
            "Epoch 1/100\n",
            "135/135 [==============================] - ETA: 0s - loss: 1.4634 - accuracy: 0.3800\n",
            "Epoch 00001: val_loss improved from inf to 1.09568, saving model to ../input/model.h5\n",
            "135/135 [==============================] - 14s 106ms/step - loss: 1.4634 - accuracy: 0.3800 - val_loss: 1.0957 - val_accuracy: 0.4529\n",
            "Epoch 2/100\n",
            "135/135 [==============================] - ETA: 0s - loss: 1.1252 - accuracy: 0.4081\n",
            "Epoch 00002: val_loss improved from 1.09568 to 1.09108, saving model to ../input/model.h5\n",
            "135/135 [==============================] - 13s 95ms/step - loss: 1.1252 - accuracy: 0.4081 - val_loss: 1.0911 - val_accuracy: 0.4529\n",
            "Epoch 3/100\n",
            "135/135 [==============================] - ETA: 0s - loss: 1.1029 - accuracy: 0.4264\n",
            "Epoch 00003: val_loss improved from 1.09108 to 1.08572, saving model to ../input/model.h5\n",
            "135/135 [==============================] - 13s 95ms/step - loss: 1.1029 - accuracy: 0.4264 - val_loss: 1.0857 - val_accuracy: 0.4529\n",
            "Epoch 4/100\n",
            "135/135 [==============================] - ETA: 0s - loss: 1.0851 - accuracy: 0.4432\n",
            "Epoch 00004: val_loss improved from 1.08572 to 1.07550, saving model to ../input/model.h5\n",
            "135/135 [==============================] - 13s 95ms/step - loss: 1.0851 - accuracy: 0.4432 - val_loss: 1.0755 - val_accuracy: 0.4529\n",
            "Epoch 5/100\n",
            "135/135 [==============================] - ETA: 0s - loss: 1.0822 - accuracy: 0.4438\n",
            "Epoch 00005: val_loss improved from 1.07550 to 1.07073, saving model to ../input/model.h5\n",
            "135/135 [==============================] - 13s 96ms/step - loss: 1.0822 - accuracy: 0.4438 - val_loss: 1.0707 - val_accuracy: 0.4529\n",
            "Epoch 6/100\n",
            "135/135 [==============================] - ETA: 0s - loss: 1.0737 - accuracy: 0.4477\n",
            "Epoch 00006: val_loss improved from 1.07073 to 1.06096, saving model to ../input/model.h5\n",
            "135/135 [==============================] - 13s 96ms/step - loss: 1.0737 - accuracy: 0.4477 - val_loss: 1.0610 - val_accuracy: 0.4529\n",
            "Epoch 7/100\n",
            "135/135 [==============================] - ETA: 0s - loss: 1.0673 - accuracy: 0.4528\n",
            "Epoch 00007: val_loss did not improve from 1.06096\n",
            "135/135 [==============================] - 13s 96ms/step - loss: 1.0673 - accuracy: 0.4528 - val_loss: 1.0667 - val_accuracy: 0.4529\n",
            "Epoch 8/100\n",
            "135/135 [==============================] - ETA: 0s - loss: 1.0649 - accuracy: 0.4502\n",
            "Epoch 00008: val_loss improved from 1.06096 to 1.04753, saving model to ../input/model.h5\n",
            "135/135 [==============================] - 13s 96ms/step - loss: 1.0649 - accuracy: 0.4502 - val_loss: 1.0475 - val_accuracy: 0.4533\n",
            "Epoch 9/100\n",
            "135/135 [==============================] - ETA: 0s - loss: 1.0608 - accuracy: 0.4558\n",
            "Epoch 00009: val_loss did not improve from 1.04753\n",
            "135/135 [==============================] - 13s 96ms/step - loss: 1.0608 - accuracy: 0.4558 - val_loss: 1.0537 - val_accuracy: 0.4570\n",
            "Epoch 10/100\n",
            "135/135 [==============================] - ETA: 0s - loss: 1.0588 - accuracy: 0.4508\n",
            "Epoch 00010: val_loss improved from 1.04753 to 1.03776, saving model to ../input/model.h5\n",
            "135/135 [==============================] - 13s 96ms/step - loss: 1.0588 - accuracy: 0.4508 - val_loss: 1.0378 - val_accuracy: 0.4538\n",
            "Epoch 11/100\n",
            "135/135 [==============================] - ETA: 0s - loss: 1.0580 - accuracy: 0.4507\n",
            "Epoch 00011: val_loss improved from 1.03776 to 1.03460, saving model to ../input/model.h5\n",
            "135/135 [==============================] - 13s 96ms/step - loss: 1.0580 - accuracy: 0.4507 - val_loss: 1.0346 - val_accuracy: 0.4838\n",
            "Epoch 12/100\n",
            "135/135 [==============================] - ETA: 0s - loss: 1.0522 - accuracy: 0.4559\n",
            "Epoch 00012: val_loss did not improve from 1.03460\n",
            "135/135 [==============================] - 13s 96ms/step - loss: 1.0522 - accuracy: 0.4559 - val_loss: 1.0605 - val_accuracy: 0.4538\n",
            "Epoch 13/100\n",
            "135/135 [==============================] - ETA: 0s - loss: 1.0316 - accuracy: 0.4707\n",
            "Epoch 00013: val_loss did not improve from 1.03460\n",
            "135/135 [==============================] - 13s 96ms/step - loss: 1.0316 - accuracy: 0.4707 - val_loss: 1.1787 - val_accuracy: 0.2944\n",
            "Epoch 14/100\n",
            "135/135 [==============================] - ETA: 0s - loss: 1.0011 - accuracy: 0.5004\n",
            "Epoch 00014: val_loss improved from 1.03460 to 0.96667, saving model to ../input/model.h5\n",
            "135/135 [==============================] - 13s 96ms/step - loss: 1.0011 - accuracy: 0.5004 - val_loss: 0.9667 - val_accuracy: 0.5185\n",
            "Epoch 15/100\n",
            "135/135 [==============================] - ETA: 0s - loss: 0.9808 - accuracy: 0.5181\n",
            "Epoch 00015: val_loss improved from 0.96667 to 0.95792, saving model to ../input/model.h5\n",
            "135/135 [==============================] - 13s 96ms/step - loss: 0.9808 - accuracy: 0.5181 - val_loss: 0.9579 - val_accuracy: 0.5250\n",
            "Epoch 16/100\n",
            "135/135 [==============================] - ETA: 0s - loss: 0.9711 - accuracy: 0.5214\n",
            "Epoch 00016: val_loss did not improve from 0.95792\n",
            "135/135 [==============================] - 13s 96ms/step - loss: 0.9711 - accuracy: 0.5214 - val_loss: 1.0541 - val_accuracy: 0.4515\n",
            "Epoch 17/100\n",
            "135/135 [==============================] - ETA: 0s - loss: 0.9578 - accuracy: 0.5265\n",
            "Epoch 00017: val_loss did not improve from 0.95792\n",
            "135/135 [==============================] - 13s 96ms/step - loss: 0.9578 - accuracy: 0.5265 - val_loss: 1.0548 - val_accuracy: 0.4358\n",
            "Epoch 18/100\n",
            "135/135 [==============================] - ETA: 0s - loss: 0.9267 - accuracy: 0.5519\n",
            "Epoch 00018: val_loss improved from 0.95792 to 0.84235, saving model to ../input/model.h5\n",
            "135/135 [==============================] - 13s 96ms/step - loss: 0.9267 - accuracy: 0.5519 - val_loss: 0.8424 - val_accuracy: 0.5786\n",
            "Epoch 19/100\n",
            "135/135 [==============================] - ETA: 0s - loss: 0.9041 - accuracy: 0.5535\n",
            "Epoch 00019: val_loss did not improve from 0.84235\n",
            "135/135 [==============================] - 13s 96ms/step - loss: 0.9041 - accuracy: 0.5535 - val_loss: 0.8444 - val_accuracy: 0.5860\n",
            "Epoch 20/100\n",
            "135/135 [==============================] - ETA: 0s - loss: 0.9005 - accuracy: 0.5670\n",
            "Epoch 00020: val_loss improved from 0.84235 to 0.82167, saving model to ../input/model.h5\n",
            "135/135 [==============================] - 13s 96ms/step - loss: 0.9005 - accuracy: 0.5670 - val_loss: 0.8217 - val_accuracy: 0.5980\n",
            "Epoch 21/100\n",
            "135/135 [==============================] - ETA: 0s - loss: 0.8689 - accuracy: 0.5811\n",
            "Epoch 00021: val_loss improved from 0.82167 to 0.81693, saving model to ../input/model.h5\n",
            "135/135 [==============================] - 13s 96ms/step - loss: 0.8689 - accuracy: 0.5811 - val_loss: 0.8169 - val_accuracy: 0.6132\n",
            "Epoch 22/100\n",
            "135/135 [==============================] - ETA: 0s - loss: 0.8555 - accuracy: 0.5929\n",
            "Epoch 00022: val_loss did not improve from 0.81693\n",
            "135/135 [==============================] - 13s 96ms/step - loss: 0.8555 - accuracy: 0.5929 - val_loss: 0.8227 - val_accuracy: 0.5970\n",
            "Epoch 23/100\n",
            "135/135 [==============================] - ETA: 0s - loss: 0.8326 - accuracy: 0.6015\n",
            "Epoch 00023: val_loss improved from 0.81693 to 0.76588, saving model to ../input/model.h5\n",
            "135/135 [==============================] - 13s 96ms/step - loss: 0.8326 - accuracy: 0.6015 - val_loss: 0.7659 - val_accuracy: 0.6377\n",
            "Epoch 24/100\n",
            "135/135 [==============================] - ETA: 0s - loss: 0.8082 - accuracy: 0.6187\n",
            "Epoch 00024: val_loss did not improve from 0.76588\n",
            "135/135 [==============================] - 13s 95ms/step - loss: 0.8082 - accuracy: 0.6187 - val_loss: 0.8612 - val_accuracy: 0.6188\n",
            "Epoch 25/100\n",
            "135/135 [==============================] - ETA: 0s - loss: 0.7994 - accuracy: 0.6270\n",
            "Epoch 00025: val_loss improved from 0.76588 to 0.71190, saving model to ../input/model.h5\n",
            "135/135 [==============================] - 13s 96ms/step - loss: 0.7994 - accuracy: 0.6270 - val_loss: 0.7119 - val_accuracy: 0.6742\n",
            "Epoch 26/100\n",
            "135/135 [==============================] - ETA: 0s - loss: 0.7825 - accuracy: 0.6404\n",
            "Epoch 00026: val_loss did not improve from 0.71190\n",
            "135/135 [==============================] - 13s 96ms/step - loss: 0.7825 - accuracy: 0.6404 - val_loss: 0.8924 - val_accuracy: 0.5878\n",
            "Epoch 27/100\n",
            "135/135 [==============================] - ETA: 0s - loss: 0.7663 - accuracy: 0.6475\n",
            "Epoch 00027: val_loss did not improve from 0.71190\n",
            "135/135 [==============================] - 13s 96ms/step - loss: 0.7663 - accuracy: 0.6475 - val_loss: 0.7286 - val_accuracy: 0.6640\n",
            "Epoch 28/100\n",
            "135/135 [==============================] - ETA: 0s - loss: 0.7624 - accuracy: 0.6520\n",
            "Epoch 00028: ReduceLROnPlateau reducing learning rate to 0.0009000000427477062.\n",
            "\n",
            "Epoch 00028: val_loss did not improve from 0.71190\n",
            "135/135 [==============================] - 13s 96ms/step - loss: 0.7624 - accuracy: 0.6520 - val_loss: 0.7219 - val_accuracy: 0.6627\n",
            "Epoch 29/100\n",
            "135/135 [==============================] - ETA: 0s - loss: 0.7520 - accuracy: 0.6574\n",
            "Epoch 00029: val_loss improved from 0.71190 to 0.70742, saving model to ../input/model.h5\n",
            "135/135 [==============================] - 13s 95ms/step - loss: 0.7520 - accuracy: 0.6574 - val_loss: 0.7074 - val_accuracy: 0.6821\n",
            "Epoch 30/100\n",
            "135/135 [==============================] - ETA: 0s - loss: 0.7371 - accuracy: 0.6718\n",
            "Epoch 00030: val_loss did not improve from 0.70742\n",
            "135/135 [==============================] - 13s 96ms/step - loss: 0.7371 - accuracy: 0.6718 - val_loss: 0.8520 - val_accuracy: 0.6220\n",
            "Epoch 31/100\n",
            "135/135 [==============================] - ETA: 0s - loss: 0.7278 - accuracy: 0.6721\n",
            "Epoch 00031: val_loss did not improve from 0.70742\n",
            "135/135 [==============================] - 13s 96ms/step - loss: 0.7278 - accuracy: 0.6721 - val_loss: 0.7343 - val_accuracy: 0.6835\n",
            "Epoch 32/100\n",
            "135/135 [==============================] - ETA: 0s - loss: 0.7184 - accuracy: 0.6848\n",
            "Epoch 00032: ReduceLROnPlateau reducing learning rate to 0.0008100000384729356.\n",
            "\n",
            "Epoch 00032: val_loss did not improve from 0.70742\n",
            "135/135 [==============================] - 13s 96ms/step - loss: 0.7184 - accuracy: 0.6848 - val_loss: 0.9526 - val_accuracy: 0.5790\n",
            "Epoch 33/100\n",
            "135/135 [==============================] - ETA: 0s - loss: 0.6991 - accuracy: 0.6866\n",
            "Epoch 00033: val_loss improved from 0.70742 to 0.64763, saving model to ../input/model.h5\n",
            "135/135 [==============================] - 13s 96ms/step - loss: 0.6991 - accuracy: 0.6866 - val_loss: 0.6476 - val_accuracy: 0.6945\n",
            "Epoch 34/100\n",
            "135/135 [==============================] - ETA: 0s - loss: 0.6896 - accuracy: 0.6946\n",
            "Epoch 00034: val_loss did not improve from 0.64763\n",
            "135/135 [==============================] - 13s 96ms/step - loss: 0.6896 - accuracy: 0.6946 - val_loss: 0.6573 - val_accuracy: 0.6941\n",
            "Epoch 35/100\n",
            "135/135 [==============================] - ETA: 0s - loss: 0.6777 - accuracy: 0.7031\n",
            "Epoch 00035: val_loss improved from 0.64763 to 0.64713, saving model to ../input/model.h5\n",
            "135/135 [==============================] - 13s 96ms/step - loss: 0.6777 - accuracy: 0.7031 - val_loss: 0.6471 - val_accuracy: 0.7047\n",
            "Epoch 36/100\n",
            "135/135 [==============================] - ETA: 0s - loss: 0.6787 - accuracy: 0.7019\n",
            "Epoch 00036: val_loss did not improve from 0.64713\n",
            "135/135 [==============================] - 13s 96ms/step - loss: 0.6787 - accuracy: 0.7019 - val_loss: 0.7570 - val_accuracy: 0.6433\n",
            "Epoch 37/100\n",
            "135/135 [==============================] - ETA: 0s - loss: 0.6728 - accuracy: 0.7068\n",
            "Epoch 00037: val_loss improved from 0.64713 to 0.60978, saving model to ../input/model.h5\n",
            "135/135 [==============================] - 13s 96ms/step - loss: 0.6728 - accuracy: 0.7068 - val_loss: 0.6098 - val_accuracy: 0.7200\n",
            "Epoch 38/100\n",
            "135/135 [==============================] - ETA: 0s - loss: 0.6632 - accuracy: 0.7049\n",
            "Epoch 00038: val_loss improved from 0.60978 to 0.60524, saving model to ../input/model.h5\n",
            "135/135 [==============================] - 13s 96ms/step - loss: 0.6632 - accuracy: 0.7049 - val_loss: 0.6052 - val_accuracy: 0.7338\n",
            "Epoch 39/100\n",
            "135/135 [==============================] - ETA: 0s - loss: 0.6495 - accuracy: 0.7165\n",
            "Epoch 00039: val_loss did not improve from 0.60524\n",
            "135/135 [==============================] - 13s 96ms/step - loss: 0.6495 - accuracy: 0.7165 - val_loss: 0.7541 - val_accuracy: 0.6677\n",
            "Epoch 40/100\n",
            "135/135 [==============================] - ETA: 0s - loss: 0.6586 - accuracy: 0.7191\n",
            "Epoch 00040: val_loss did not improve from 0.60524\n",
            "135/135 [==============================] - 13s 96ms/step - loss: 0.6586 - accuracy: 0.7191 - val_loss: 1.0449 - val_accuracy: 0.5444\n",
            "Epoch 41/100\n",
            "135/135 [==============================] - ETA: 0s - loss: 0.6471 - accuracy: 0.7138\n",
            "Epoch 00041: val_loss improved from 0.60524 to 0.56953, saving model to ../input/model.h5\n",
            "135/135 [==============================] - 13s 95ms/step - loss: 0.6471 - accuracy: 0.7138 - val_loss: 0.5695 - val_accuracy: 0.7297\n",
            "Epoch 42/100\n",
            "135/135 [==============================] - ETA: 0s - loss: 0.6368 - accuracy: 0.7200\n",
            "Epoch 00042: val_loss did not improve from 0.56953\n",
            "135/135 [==============================] - 13s 96ms/step - loss: 0.6368 - accuracy: 0.7200 - val_loss: 0.5834 - val_accuracy: 0.7223\n",
            "Epoch 43/100\n",
            "135/135 [==============================] - ETA: 0s - loss: 0.6375 - accuracy: 0.7153\n",
            "Epoch 00043: val_loss did not improve from 0.56953\n",
            "135/135 [==============================] - 13s 95ms/step - loss: 0.6375 - accuracy: 0.7153 - val_loss: 0.6327 - val_accuracy: 0.7223\n",
            "Epoch 44/100\n",
            "135/135 [==============================] - ETA: 0s - loss: 0.6459 - accuracy: 0.7237\n",
            "Epoch 00044: val_loss improved from 0.56953 to 0.55305, saving model to ../input/model.h5\n",
            "135/135 [==============================] - 13s 96ms/step - loss: 0.6459 - accuracy: 0.7237 - val_loss: 0.5531 - val_accuracy: 0.7546\n",
            "Epoch 45/100\n",
            "135/135 [==============================] - ETA: 0s - loss: 0.6268 - accuracy: 0.7260\n",
            "Epoch 00045: val_loss did not improve from 0.55305\n",
            "135/135 [==============================] - 13s 96ms/step - loss: 0.6268 - accuracy: 0.7260 - val_loss: 0.5970 - val_accuracy: 0.7306\n",
            "Epoch 46/100\n",
            "135/135 [==============================] - ETA: 0s - loss: 0.6175 - accuracy: 0.7288\n",
            "Epoch 00046: val_loss did not improve from 0.55305\n",
            "135/135 [==============================] - 13s 96ms/step - loss: 0.6175 - accuracy: 0.7288 - val_loss: 0.5694 - val_accuracy: 0.7375\n",
            "Epoch 47/100\n",
            "135/135 [==============================] - ETA: 0s - loss: 0.6167 - accuracy: 0.7317\n",
            "Epoch 00047: ReduceLROnPlateau reducing learning rate to 0.0007290000503417104.\n",
            "\n",
            "Epoch 00047: val_loss did not improve from 0.55305\n",
            "135/135 [==============================] - 13s 95ms/step - loss: 0.6167 - accuracy: 0.7317 - val_loss: 0.6215 - val_accuracy: 0.7264\n",
            "Epoch 48/100\n",
            "135/135 [==============================] - ETA: 0s - loss: 0.6049 - accuracy: 0.7368\n",
            "Epoch 00048: val_loss did not improve from 0.55305\n",
            "135/135 [==============================] - 13s 95ms/step - loss: 0.6049 - accuracy: 0.7368 - val_loss: 0.5776 - val_accuracy: 0.7454\n",
            "Epoch 49/100\n",
            "135/135 [==============================] - ETA: 0s - loss: 0.6004 - accuracy: 0.7401\n",
            "Epoch 00049: val_loss did not improve from 0.55305\n",
            "135/135 [==============================] - 13s 95ms/step - loss: 0.6004 - accuracy: 0.7401 - val_loss: 0.5705 - val_accuracy: 0.7477\n",
            "Epoch 50/100\n",
            "135/135 [==============================] - ETA: 0s - loss: 0.6052 - accuracy: 0.7408\n",
            "Epoch 00050: ReduceLROnPlateau reducing learning rate to 0.0006561000715009868.\n",
            "\n",
            "Epoch 00050: val_loss did not improve from 0.55305\n",
            "135/135 [==============================] - 13s 96ms/step - loss: 0.6052 - accuracy: 0.7408 - val_loss: 0.6687 - val_accuracy: 0.7232\n",
            "Epoch 51/100\n",
            "135/135 [==============================] - ETA: 0s - loss: 0.5899 - accuracy: 0.7462\n",
            "Epoch 00051: val_loss did not improve from 0.55305\n",
            "135/135 [==============================] - 13s 95ms/step - loss: 0.5899 - accuracy: 0.7462 - val_loss: 0.7778 - val_accuracy: 0.6548\n",
            "Epoch 52/100\n",
            "135/135 [==============================] - ETA: 0s - loss: 0.5878 - accuracy: 0.7463\n",
            "Epoch 00052: val_loss did not improve from 0.55305\n",
            "135/135 [==============================] - 13s 96ms/step - loss: 0.5878 - accuracy: 0.7463 - val_loss: 0.5578 - val_accuracy: 0.7680\n",
            "Epoch 00052: early stopping\n"
          ],
          "name": "stdout"
        }
      ]
    },
    {
      "cell_type": "code",
      "metadata": {
        "id": "TzBA5GRFfOdT",
        "colab_type": "code",
        "colab": {
          "base_uri": "https://localhost:8080/",
          "height": 67
        },
        "outputId": "07209d3f-5661-49a7-bea6-82fcf0103345"
      },
      "source": [
        "scores = model.evaluate(x_test, y_test, batch_size=bs)\n",
        "print(\"Loss: \" + str(scores[0]))\n",
        "print(\"Accuracy: \" + str(scores[1]))"
      ],
      "execution_count": 10,
      "outputs": [
        {
          "output_type": "stream",
          "text": [
            "34/34 [==============================] - 1s 41ms/step - loss: 0.5578 - accuracy: 0.7680\n",
            "Loss: 0.5578174591064453\n",
            "Accuracy: 0.7680221796035767\n"
          ],
          "name": "stdout"
        }
      ]
    },
    {
      "cell_type": "code",
      "metadata": {
        "id": "knI83WZCjNuk",
        "colab_type": "code",
        "colab": {
          "base_uri": "https://localhost:8080/",
          "height": 34
        },
        "outputId": "557609d5-5945-4552-83c6-7f147f454942"
      },
      "source": [
        "model.save_weights(\"/content/model.h5\")\n",
        "print(\"Saved model to disk\")"
      ],
      "execution_count": 11,
      "outputs": [
        {
          "output_type": "stream",
          "text": [
            "Saved model to disk\n"
          ],
          "name": "stdout"
        }
      ]
    },
    {
      "cell_type": "code",
      "metadata": {
        "id": "u0taaw-mjrGB",
        "colab_type": "code",
        "colab": {}
      },
      "source": [
        ""
      ],
      "execution_count": null,
      "outputs": []
    }
  ]
}