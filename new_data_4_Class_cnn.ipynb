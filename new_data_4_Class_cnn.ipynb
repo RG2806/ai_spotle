{
  "nbformat": 4,
  "nbformat_minor": 0,
  "metadata": {
    "colab": {
      "name": "Untitled18.ipynb",
      "provenance": [],
      "authorship_tag": "ABX9TyNN7VBJzhGd4e1oImt1qudB",
      "include_colab_link": true
    },
    "kernelspec": {
      "name": "python3",
      "display_name": "Python 3"
    },
    "accelerator": "GPU"
  },
  "cells": [
    {
      "cell_type": "markdown",
      "metadata": {
        "id": "view-in-github",
        "colab_type": "text"
      },
      "source": [
        "<a href=\"https://colab.research.google.com/github/RG2806/ai_spotle/blob/master/new_data_4_Class_cnn.ipynb\" target=\"_parent\"><img src=\"https://colab.research.google.com/assets/colab-badge.svg\" alt=\"Open In Colab\"/></a>"
      ]
    },
    {
      "cell_type": "code",
      "metadata": {
        "id": "o61zwzTWCwoN",
        "outputId": "3b125a5b-d6e0-4d33-f333-0c5e348cbc5a",
        "colab": {
          "base_uri": "https://localhost:8080/",
          "height": 154
        }
      },
      "source": [
        "import pandas as pd\n",
        "import numpy as np\n",
        "import matplotlib.pyplot as plt\n",
        "import seaborn as sns\n",
        "from sklearn.metrics import confusion_matrix, f1_score, accuracy_score\n",
        "from sklearn.model_selection import train_test_split,KFold,StratifiedKFold\n",
        "from sklearn import model_selection, preprocessing, metrics, svm, ensemble\n",
        "from sklearn.feature_extraction.text import CountVectorizer\n",
        "from sklearn.pipeline import Pipeline\n",
        "from sklearn.feature_extraction.text import TfidfTransformer, TfidfVectorizer\n",
        "from sklearn.svm import SVC, NuSVC, LinearSVC\n",
        "from sklearn.model_selection import GridSearchCV\n",
        "import re\n",
        "from bs4 import BeautifulSoup\n",
        "from nltk.tokenize import WordPunctTokenizer\n",
        "from nltk import word_tokenize\n",
        "from nltk.stem import WordNetLemmatizer\n",
        "import nltk\n",
        "import pandas as pd\n",
        "import numpy as np\n",
        "\n",
        "# text preprocessing\n",
        "from nltk.tokenize import word_tokenize\n",
        "import re\n",
        "\n",
        "# plots and metrics\n",
        "import matplotlib.pyplot as plt\n",
        "from sklearn.metrics import accuracy_score, f1_score, confusion_matrix\n",
        "\n",
        "# preparing input to our model\n",
        "from keras.preprocessing.text import Tokenizer\n",
        "from keras.preprocessing.sequence import pad_sequences\n",
        "from keras.utils import to_categorical\n",
        "\n",
        "# keras layers\n",
        "from keras.models import Sequential\n",
        "from keras.layers import Embedding, Conv1D, GlobalMaxPooling1D, Dense\n",
        "nltk.download('punkt')\n",
        "nltk.download('stopwords')\n",
        "nltk.download('wordnet')\n",
        "pd.set_option('display.max_colwidth', -1)"
      ],
      "execution_count": 1,
      "outputs": [
        {
          "output_type": "stream",
          "text": [
            "[nltk_data] Downloading package punkt to /root/nltk_data...\n",
            "[nltk_data]   Unzipping tokenizers/punkt.zip.\n",
            "[nltk_data] Downloading package stopwords to /root/nltk_data...\n",
            "[nltk_data]   Unzipping corpora/stopwords.zip.\n",
            "[nltk_data] Downloading package wordnet to /root/nltk_data...\n",
            "[nltk_data]   Unzipping corpora/wordnet.zip.\n"
          ],
          "name": "stdout"
        },
        {
          "output_type": "stream",
          "text": [
            "/usr/local/lib/python3.6/dist-packages/ipykernel_launcher.py:41: FutureWarning: Passing a negative integer is deprecated in version 1.0 and will not be supported in future version. Instead, use None to not limit the column width.\n"
          ],
          "name": "stderr"
        }
      ]
    },
    {
      "cell_type": "code",
      "metadata": {
        "id": "agTj5YxBCyEv",
        "outputId": "71523d2b-764c-4c19-d376-ac780b29bf07",
        "colab": {
          "base_uri": "https://localhost:8080/",
          "height": 151
        }
      },
      "source": [
        "!git clone https://github.com/RG2806/ai_spotle.git"
      ],
      "execution_count": 2,
      "outputs": [
        {
          "output_type": "stream",
          "text": [
            "Cloning into 'ai_spotle'...\n",
            "remote: Enumerating objects: 67, done.\u001b[K\n",
            "remote: Counting objects: 100% (67/67), done.\u001b[K\n",
            "remote: Compressing objects: 100% (37/37), done.\u001b[K\n",
            "remote: Total 4133 (delta 42), reused 36 (delta 30), pack-reused 4066\u001b[K\n",
            "Receiving objects: 100% (4133/4133), 60.33 MiB | 19.11 MiB/s, done.\n",
            "Resolving deltas: 100% (63/63), done.\n",
            "Checking out files: 100% (4091/4091), done.\n"
          ],
          "name": "stdout"
        }
      ]
    },
    {
      "cell_type": "code",
      "metadata": {
        "id": "hdZvE55LDKO-"
      },
      "source": [
        "import pandas as pd\n",
        "\n",
        "import os\n",
        "##combine all files in the lis\n",
        "#df=pd.read_json(\"/content/ai_spotle/aithon2020_level_3/aithon_level_3_2020-09-22T05_11_55.txt\")\n",
        "df = pd.concat([pd.read_json(\"/content/ai_spotle/aithon2020_level_3/\"+f) for c,f in enumerate(os.listdir(\"/content/ai_spotle/aithon2020_level_3/\")) ])"
      ],
      "execution_count": 3,
      "outputs": []
    },
    {
      "cell_type": "code",
      "metadata": {
        "id": "89ligA4-DRPp",
        "outputId": "40426281-5cf7-4dda-b20f-111eaec9f3a8",
        "colab": {
          "base_uri": "https://localhost:8080/",
          "height": 202
        }
      },
      "source": [
        "df.info()"
      ],
      "execution_count": 4,
      "outputs": [
        {
          "output_type": "stream",
          "text": [
            "<class 'pandas.core.frame.DataFrame'>\n",
            "Int64Index: 496448 entries, 0 to 17660\n",
            "Data columns (total 4 columns):\n",
            " #   Column    Non-Null Count   Dtype \n",
            "---  ------    --------------   ----- \n",
            " 0   text      496448 non-null  object\n",
            " 1   location  496448 non-null  object\n",
            " 2   date      496448 non-null  object\n",
            " 3   time      496448 non-null  object\n",
            "dtypes: object(4)\n",
            "memory usage: 18.9+ MB\n"
          ],
          "name": "stdout"
        }
      ]
    },
    {
      "cell_type": "code",
      "metadata": {
        "id": "LvzF9lwLDThj"
      },
      "source": [
        "import seaborn as sns\n",
        "import matplotlib.pyplot as plt\n",
        "\n",
        "def return_missing_values(data_frame):\n",
        "    missing_values = data_frame['new'].isnull().sum()/len(data_frame)\n",
        "    missing_values = missing_values[missing_values>0]\n",
        "    #missing_values.sort_values(inplace=True)\n",
        "    return missing_values\n",
        "\n",
        "def plot_missing_values(data_frame):\n",
        "    missing_values = return_missing_values(data_frame)\n",
        "    missing_values = missing_values.to_frame()\n",
        "    missing_values.columns = ['count']\n",
        "    missing_values.index.names = ['Name']\n",
        "    missing_values['Name'] = missing_values.index\n",
        "    sns.set(style='whitegrid', color_codes=True)\n",
        "    sns.barplot(x='Name', y='count', data=missing_values)\n",
        "    plt.xticks(rotation=90)\n",
        "    plt.show()"
      ],
      "execution_count": 41,
      "outputs": []
    },
    {
      "cell_type": "code",
      "metadata": {
        "id": "caHKcltPEs0w",
        "outputId": "f195cc4f-f894-4c05-9092-a198d8b9a93c",
        "colab": {
          "base_uri": "https://localhost:8080/",
          "height": 34
        }
      },
      "source": [
        "return_missing_values(df)"
      ],
      "execution_count": 42,
      "outputs": [
        {
          "output_type": "execute_result",
          "data": {
            "text/plain": [
              "array([], dtype=float64)"
            ]
          },
          "metadata": {
            "tags": []
          },
          "execution_count": 42
        }
      ]
    },
    {
      "cell_type": "code",
      "metadata": {
        "id": "u77MJnmxEvGW"
      },
      "source": [
        "def return_unique_values(data_frame):\n",
        "    unique_dataframe = pd.DataFrame()\n",
        "    unique_dataframe['Features'] = data_frame.columns\n",
        "    uniques = []\n",
        "    for col in data_frame.columns:\n",
        "        u = data_frame[col].nunique()\n",
        "        uniques.append(u)\n",
        "    unique_dataframe['Uniques'] = uniques\n",
        "    return unique_dataframe"
      ],
      "execution_count": 7,
      "outputs": []
    },
    {
      "cell_type": "code",
      "metadata": {
        "id": "WDLFW8gQka0Z"
      },
      "source": [
        "df['new']=df['location'].apply(lambda x: x.split(\",\")[-1].split(\" \")[-1])"
      ],
      "execution_count": 27,
      "outputs": []
    },
    {
      "cell_type": "code",
      "metadata": {
        "id": "aOtoOflhlAvl",
        "outputId": "3b984480-f7ec-49f0-cfc2-6a57aeaf9576",
        "colab": {
          "base_uri": "https://localhost:8080/",
          "height": 84
        }
      },
      "source": [
        "df['new'].value_counts().index[:20]"
      ],
      "execution_count": 38,
      "outputs": [
        {
          "output_type": "execute_result",
          "data": {
            "text/plain": [
              "Index(['', 'India', 'Switzerland', 'England', 'USA', 'Kingdom', 'UK', 'CA',\n",
              "       'States', 'Canada', 'Delhi', 'Pakistan', 'London', 'Netherlands',\n",
              "       'VadaChennai', 'FL', 'Australia', 'Nigeria', 'Zealand', 'Kenya'],\n",
              "      dtype='object')"
            ]
          },
          "metadata": {
            "tags": []
          },
          "execution_count": 38
        }
      ]
    },
    {
      "cell_type": "code",
      "metadata": {
        "id": "K4Q9joPeE3GV",
        "outputId": "5a73e684-01f6-40b0-97fe-760e835c8ea4",
        "colab": {
          "base_uri": "https://localhost:8080/",
          "height": 118
        }
      },
      "source": [
        "udf = return_unique_values(df)\n",
        "print(udf)"
      ],
      "execution_count": 37,
      "outputs": [
        {
          "output_type": "stream",
          "text": [
            "   Features  Uniques\n",
            "0  text      13682  \n",
            "1  location  3440   \n",
            "2  date      10     \n",
            "3  time      12442  \n",
            "4  new       1624   \n"
          ],
          "name": "stdout"
        }
      ]
    },
    {
      "cell_type": "code",
      "metadata": {
        "id": "e1LIBzB9FG8S",
        "outputId": "7160ded9-2a70-4764-d328-8246399b599e",
        "colab": {
          "base_uri": "https://localhost:8080/",
          "height": 382
        }
      },
      "source": [
        "f, ax = plt.subplots(1,1, figsize=(10,5))#plt.figure(figsize=(10, 5))\n",
        "\n",
        "sns.barplot(x=udf['Features'], y=udf['Uniques'], alpha=0.8)\n",
        "plt.title('Bar plot for #unique values in each column')\n",
        "plt.ylabel('#Unique values', fontsize=12)\n",
        "plt.xlabel('Features', fontsize=12)\n",
        "plt.xticks(rotation=90)\n",
        "plt.show()"
      ],
      "execution_count": 9,
      "outputs": [
        {
          "output_type": "display_data",
          "data": {
            "image/png": "[encoded data removed]",
            "text/plain": [
              "<Figure size 720x360 with 1 Axes>"
            ]
          },
          "metadata": {
            "tags": [],
            "needs_background": "light"
          }
        }
      ]
    },
    {
      "cell_type": "code",
      "metadata": {
        "id": "xcmwQxQRFvGP"
      },
      "source": [
        "def plot_frequency_charts(df, feature, title, pallete):\n",
        "    freq_df = pd.DataFrame()\n",
        "    freq_df[feature] = df[feature]\n",
        "    \n",
        "    f, ax = plt.subplots(1,1, figsize=(16,4))\n",
        "    total = float(len(df))\n",
        "    g = sns.countplot(df[feature], order = df[feature].value_counts().index[:20], palette=pallete)\n",
        "    g.set_title(\"Number and percentage of {}\".format(title))\n",
        "\n",
        "    for p in ax.patches:\n",
        "        height = p.get_height()\n",
        "        ax.text(p.get_x()+p.get_width()/2.,\n",
        "                height + 3,\n",
        "                '{:1.2f}%'.format(100*height/total),\n",
        "                ha=\"center\") \n",
        "\n",
        "    plt.title('Frequency of {} tweeting about Corona'.format(feature))\n",
        "    plt.ylabel('Frequency', fontsize=12)\n",
        "    plt.xlabel(title, fontsize=12)\n",
        "    plt.xticks(rotation=90)\n",
        "    plt.show()"
      ],
      "execution_count": 10,
      "outputs": []
    },
    {
      "cell_type": "code",
      "metadata": {
        "id": "ZJt0KE9TGKOu",
        "outputId": "e180478e-d5d2-4f6b-bb6d-10469de2814d",
        "colab": {
          "base_uri": "https://localhost:8080/",
          "height": 408
        }
      },
      "source": [
        "plot_frequency_charts(df, 'new', 'User Locations', 'BuGn_r')"
      ],
      "execution_count": 30,
      "outputs": [
        {
          "output_type": "stream",
          "text": [
            "/usr/local/lib/python3.6/dist-packages/seaborn/_decorators.py:43: FutureWarning: Pass the following variable as a keyword arg: x. From version 0.12, the only valid positional argument will be `data`, and passing other arguments without an explicit keyword will result in an error or misinterpretation.\n",
            "  FutureWarning\n"
          ],
          "name": "stderr"
        },
        {
          "output_type": "display_data",
          "data": {
            "image/png": "[encoded data removed]",
            "text/plain": [
              "<Figure size 1152x288 with 1 Axes>"
            ]
          },
          "metadata": {
            "tags": [],
            "needs_background": "light"
          }
        }
      ]
    },
    {
      "cell_type": "code",
      "metadata": {
        "id": "46lRGzAQGRPw",
        "outputId": "ce6681e7-9ee0-4b1f-bdae-63527340a977",
        "colab": {
          "base_uri": "https://localhost:8080/",
          "height": 34
        }
      },
      "source": [
        "from string import punctuation\n",
        "from nltk.corpus import stopwords\n",
        "print(stopwords.words('english')[10:15])\n",
        "\n",
        "def punctuation_stopwords_removal(sms):\n",
        "    # filters charecter-by-charecter : ['h', 'e', 'e', 'l', 'o', 'o', ' ', 'm', 'y', ' ', 'n', 'a', 'm', 'e', ' ', 'i', 's', ' ', 'p', 'u', 'r', 'v', 'a']\n",
        "    remove_punctuation = [ch for ch in sms if ch not in punctuation]\n",
        "    # convert them back to sentences and split into words\n",
        "    remove_punctuation = \"\".join(remove_punctuation).split()\n",
        "    filtered_sms = [word.lower() for word in remove_punctuation if word.lower() not in stopwords.words('english')]\n",
        "    return filtered_sms"
      ],
      "execution_count": 12,
      "outputs": [
        {
          "output_type": "stream",
          "text": [
            "[\"you've\", \"you'll\", \"you'd\", 'your', 'yours']\n"
          ],
          "name": "stdout"
        }
      ]
    },
    {
      "cell_type": "code",
      "metadata": {
        "id": "N__3zzefGuPX"
      },
      "source": [
        "from collections import Counter\n",
        "\n",
        "def draw_bar_graph_for_text_visualization(df, location):\n",
        "    tweets_from_loc = df.loc[df.location==location]\n",
        "    tweets_from_loc.loc[:, 'text'] = tweets_from_loc['text'].apply(punctuation_stopwords_removal)\n",
        "    loc_tweets_curated = tweets_from_loc['text'].tolist()\n",
        "    loc_tweet_list = []\n",
        "    for sublist in loc_tweets_curated:\n",
        "        for word in sublist:\n",
        "            loc_tweet_list.append(word)\n",
        "    loc_tweet_count = Counter(loc_tweet_list)\n",
        "    loc_top_30_words = pd.DataFrame(loc_tweet_count.most_common(50), columns=['word', 'count'])\n",
        "    fig, ax = plt.subplots(figsize=(16, 6))\n",
        "    sns.barplot(x='word', y='count', \n",
        "                data=loc_top_30_words, ax=ax)\n",
        "    plt.title(\"Top 50 Prevelant Words in {}\".format(location))\n",
        "    plt.xticks(rotation='vertical');"
      ],
      "execution_count": 13,
      "outputs": []
    },
    {
      "cell_type": "code",
      "metadata": {
        "id": "frpJkZUtG1bx"
      },
      "source": [
        "from wordcloud import WordCloud, STOPWORDS\n",
        "def draw_word_cloud(df, location, title):\n",
        "    loc_df = df.loc[df.location==location]\n",
        "    loc_df.loc[:, 'text'] = loc_df['text'].apply(punctuation_stopwords_removal)\n",
        "    word_cloud = WordCloud(\n",
        "                    background_color='white',\n",
        "                    stopwords=set(STOPWORDS),\n",
        "                    max_words=50,\n",
        "                    max_font_size=40,\n",
        "                    scale=5,\n",
        "                    random_state=1).generate(str(loc_df['text']))\n",
        "    fig = plt.figure(1, figsize=(10,10))\n",
        "    plt.axis('off')\n",
        "    fig.suptitle(title, fontsize=20)\n",
        "    fig.subplots_adjust(top=2.3)\n",
        "    plt.imshow(word_cloud)\n",
        "    plt.show()"
      ],
      "execution_count": 14,
      "outputs": []
    },
    {
      "cell_type": "code",
      "metadata": {
        "id": "zulpcF_FG8pa",
        "outputId": "7308cc46-57c2-4ae1-b28a-ef5634e735bd",
        "colab": {
          "base_uri": "https://localhost:8080/",
          "height": 599
        }
      },
      "source": [
        "draw_bar_graph_for_text_visualization(df, 'India')"
      ],
      "execution_count": 15,
      "outputs": [
        {
          "output_type": "stream",
          "text": [
            "/usr/local/lib/python3.6/dist-packages/pandas/core/indexing.py:1783: SettingWithCopyWarning: \n",
            "A value is trying to be set on a copy of a slice from a DataFrame.\n",
            "Try using .loc[row_indexer,col_indexer] = value instead\n",
            "\n",
            "See the caveats in the documentation: https://pandas.pydata.org/pandas-docs/stable/user_guide/indexing.html#returning-a-view-versus-a-copy\n",
            "  self.obj[item_labels[indexer[info_axis]]] = value\n"
          ],
          "name": "stderr"
        },
        {
          "output_type": "display_data",
          "data": {
            "image/png": "[encoded data removed]",
            "text/plain": [
              "<Figure size 1152x432 with 1 Axes>"
            ]
          },
          "metadata": {
            "tags": [],
            "needs_background": "light"
          }
        }
      ]
    },
    {
      "cell_type": "code",
      "metadata": {
        "id": "_EEieGfCG_YP",
        "outputId": "9521df12-e982-4c6e-b1dc-ecd54477a785",
        "colab": {
          "base_uri": "https://localhost:8080/",
          "height": 337
        }
      },
      "source": [
        "draw_word_cloud(df, 'India', 'Word Cloud for top 50 prevelant words in India')"
      ],
      "execution_count": 16,
      "outputs": [
        {
          "output_type": "error",
          "ename": "KeyboardInterrupt",
          "evalue": "ignored",
          "traceback": [
            "\u001b[0;31m---------------------------------------------------------------------------\u001b[0m",
            "\u001b[0;31mKeyboardInterrupt\u001b[0m                         Traceback (most recent call last)",
            "\u001b[0;32m<ipython-input-16-dcc42614410e>\u001b[0m in \u001b[0;36m<module>\u001b[0;34m()\u001b[0m\n\u001b[0;32m----> 1\u001b[0;31m \u001b[0mdraw_word_cloud\u001b[0m\u001b[0;34m(\u001b[0m\u001b[0mdf\u001b[0m\u001b[0;34m,\u001b[0m \u001b[0;34m'India'\u001b[0m\u001b[0;34m,\u001b[0m \u001b[0;34m'Word Cloud for top 50 prevelant words in India'\u001b[0m\u001b[0;34m)\u001b[0m\u001b[0;34m\u001b[0m\u001b[0;34m\u001b[0m\u001b[0m\n\u001b[0m",
            "\u001b[0;32m<ipython-input-14-55f7d11d101b>\u001b[0m in \u001b[0;36mdraw_word_cloud\u001b[0;34m(df, location, title)\u001b[0m\n\u001b[1;32m      2\u001b[0m \u001b[0;32mdef\u001b[0m \u001b[0mdraw_word_cloud\u001b[0m\u001b[0;34m(\u001b[0m\u001b[0mdf\u001b[0m\u001b[0;34m,\u001b[0m \u001b[0mlocation\u001b[0m\u001b[0;34m,\u001b[0m \u001b[0mtitle\u001b[0m\u001b[0;34m)\u001b[0m\u001b[0;34m:\u001b[0m\u001b[0;34m\u001b[0m\u001b[0;34m\u001b[0m\u001b[0m\n\u001b[1;32m      3\u001b[0m     \u001b[0mloc_df\u001b[0m \u001b[0;34m=\u001b[0m \u001b[0mdf\u001b[0m\u001b[0;34m.\u001b[0m\u001b[0mloc\u001b[0m\u001b[0;34m[\u001b[0m\u001b[0mdf\u001b[0m\u001b[0;34m.\u001b[0m\u001b[0mlocation\u001b[0m\u001b[0;34m==\u001b[0m\u001b[0mlocation\u001b[0m\u001b[0;34m]\u001b[0m\u001b[0;34m\u001b[0m\u001b[0;34m\u001b[0m\u001b[0m\n\u001b[0;32m----> 4\u001b[0;31m     \u001b[0mloc_df\u001b[0m\u001b[0;34m.\u001b[0m\u001b[0mloc\u001b[0m\u001b[0;34m[\u001b[0m\u001b[0;34m:\u001b[0m\u001b[0;34m,\u001b[0m \u001b[0;34m'text'\u001b[0m\u001b[0;34m]\u001b[0m \u001b[0;34m=\u001b[0m \u001b[0mloc_df\u001b[0m\u001b[0;34m[\u001b[0m\u001b[0;34m'text'\u001b[0m\u001b[0;34m]\u001b[0m\u001b[0;34m.\u001b[0m\u001b[0mapply\u001b[0m\u001b[0;34m(\u001b[0m\u001b[0mpunctuation_stopwords_removal\u001b[0m\u001b[0;34m)\u001b[0m\u001b[0;34m\u001b[0m\u001b[0;34m\u001b[0m\u001b[0m\n\u001b[0m\u001b[1;32m      5\u001b[0m     word_cloud = WordCloud(\n\u001b[1;32m      6\u001b[0m                     \u001b[0mbackground_color\u001b[0m\u001b[0;34m=\u001b[0m\u001b[0;34m'white'\u001b[0m\u001b[0;34m,\u001b[0m\u001b[0;34m\u001b[0m\u001b[0;34m\u001b[0m\u001b[0m\n",
            "\u001b[0;32m/usr/local/lib/python3.6/dist-packages/pandas/core/series.py\u001b[0m in \u001b[0;36mapply\u001b[0;34m(self, func, convert_dtype, args, **kwds)\u001b[0m\n\u001b[1;32m   4198\u001b[0m             \u001b[0;32melse\u001b[0m\u001b[0;34m:\u001b[0m\u001b[0;34m\u001b[0m\u001b[0;34m\u001b[0m\u001b[0m\n\u001b[1;32m   4199\u001b[0m                 \u001b[0mvalues\u001b[0m \u001b[0;34m=\u001b[0m \u001b[0mself\u001b[0m\u001b[0;34m.\u001b[0m\u001b[0mastype\u001b[0m\u001b[0;34m(\u001b[0m\u001b[0mobject\u001b[0m\u001b[0;34m)\u001b[0m\u001b[0;34m.\u001b[0m\u001b[0m_values\u001b[0m\u001b[0;34m\u001b[0m\u001b[0;34m\u001b[0m\u001b[0m\n\u001b[0;32m-> 4200\u001b[0;31m                 \u001b[0mmapped\u001b[0m \u001b[0;34m=\u001b[0m \u001b[0mlib\u001b[0m\u001b[0;34m.\u001b[0m\u001b[0mmap_infer\u001b[0m\u001b[0;34m(\u001b[0m\u001b[0mvalues\u001b[0m\u001b[0;34m,\u001b[0m \u001b[0mf\u001b[0m\u001b[0;34m,\u001b[0m \u001b[0mconvert\u001b[0m\u001b[0;34m=\u001b[0m\u001b[0mconvert_dtype\u001b[0m\u001b[0;34m)\u001b[0m\u001b[0;34m\u001b[0m\u001b[0;34m\u001b[0m\u001b[0m\n\u001b[0m\u001b[1;32m   4201\u001b[0m \u001b[0;34m\u001b[0m\u001b[0m\n\u001b[1;32m   4202\u001b[0m         \u001b[0;32mif\u001b[0m \u001b[0mlen\u001b[0m\u001b[0;34m(\u001b[0m\u001b[0mmapped\u001b[0m\u001b[0;34m)\u001b[0m \u001b[0;32mand\u001b[0m \u001b[0misinstance\u001b[0m\u001b[0;34m(\u001b[0m\u001b[0mmapped\u001b[0m\u001b[0;34m[\u001b[0m\u001b[0;36m0\u001b[0m\u001b[0;34m]\u001b[0m\u001b[0;34m,\u001b[0m \u001b[0mSeries\u001b[0m\u001b[0;34m)\u001b[0m\u001b[0;34m:\u001b[0m\u001b[0;34m\u001b[0m\u001b[0;34m\u001b[0m\u001b[0m\n",
            "\u001b[0;32mpandas/_libs/lib.pyx\u001b[0m in \u001b[0;36mpandas._libs.lib.map_infer\u001b[0;34m()\u001b[0m\n",
            "\u001b[0;32m<ipython-input-12-9e2734d1dfd9>\u001b[0m in \u001b[0;36mpunctuation_stopwords_removal\u001b[0;34m(sms)\u001b[0m\n\u001b[1;32m      8\u001b[0m     \u001b[0;31m# convert them back to sentences and split into words\u001b[0m\u001b[0;34m\u001b[0m\u001b[0;34m\u001b[0m\u001b[0;34m\u001b[0m\u001b[0m\n\u001b[1;32m      9\u001b[0m     \u001b[0mremove_punctuation\u001b[0m \u001b[0;34m=\u001b[0m \u001b[0;34m\"\"\u001b[0m\u001b[0;34m.\u001b[0m\u001b[0mjoin\u001b[0m\u001b[0;34m(\u001b[0m\u001b[0mremove_punctuation\u001b[0m\u001b[0;34m)\u001b[0m\u001b[0;34m.\u001b[0m\u001b[0msplit\u001b[0m\u001b[0;34m(\u001b[0m\u001b[0;34m)\u001b[0m\u001b[0;34m\u001b[0m\u001b[0;34m\u001b[0m\u001b[0m\n\u001b[0;32m---> 10\u001b[0;31m     \u001b[0mfiltered_sms\u001b[0m \u001b[0;34m=\u001b[0m \u001b[0;34m[\u001b[0m\u001b[0mword\u001b[0m\u001b[0;34m.\u001b[0m\u001b[0mlower\u001b[0m\u001b[0;34m(\u001b[0m\u001b[0;34m)\u001b[0m \u001b[0;32mfor\u001b[0m \u001b[0mword\u001b[0m \u001b[0;32min\u001b[0m \u001b[0mremove_punctuation\u001b[0m \u001b[0;32mif\u001b[0m \u001b[0mword\u001b[0m\u001b[0;34m.\u001b[0m\u001b[0mlower\u001b[0m\u001b[0;34m(\u001b[0m\u001b[0;34m)\u001b[0m \u001b[0;32mnot\u001b[0m \u001b[0;32min\u001b[0m \u001b[0mstopwords\u001b[0m\u001b[0;34m.\u001b[0m\u001b[0mwords\u001b[0m\u001b[0;34m(\u001b[0m\u001b[0;34m'english'\u001b[0m\u001b[0;34m)\u001b[0m\u001b[0;34m]\u001b[0m\u001b[0;34m\u001b[0m\u001b[0;34m\u001b[0m\u001b[0m\n\u001b[0m\u001b[1;32m     11\u001b[0m     \u001b[0;32mreturn\u001b[0m \u001b[0mfiltered_sms\u001b[0m\u001b[0;34m\u001b[0m\u001b[0;34m\u001b[0m\u001b[0m\n",
            "\u001b[0;32m<ipython-input-12-9e2734d1dfd9>\u001b[0m in \u001b[0;36m<listcomp>\u001b[0;34m(.0)\u001b[0m\n\u001b[1;32m      8\u001b[0m     \u001b[0;31m# convert them back to sentences and split into words\u001b[0m\u001b[0;34m\u001b[0m\u001b[0;34m\u001b[0m\u001b[0;34m\u001b[0m\u001b[0m\n\u001b[1;32m      9\u001b[0m     \u001b[0mremove_punctuation\u001b[0m \u001b[0;34m=\u001b[0m \u001b[0;34m\"\"\u001b[0m\u001b[0;34m.\u001b[0m\u001b[0mjoin\u001b[0m\u001b[0;34m(\u001b[0m\u001b[0mremove_punctuation\u001b[0m\u001b[0;34m)\u001b[0m\u001b[0;34m.\u001b[0m\u001b[0msplit\u001b[0m\u001b[0;34m(\u001b[0m\u001b[0;34m)\u001b[0m\u001b[0;34m\u001b[0m\u001b[0;34m\u001b[0m\u001b[0m\n\u001b[0;32m---> 10\u001b[0;31m     \u001b[0mfiltered_sms\u001b[0m \u001b[0;34m=\u001b[0m \u001b[0;34m[\u001b[0m\u001b[0mword\u001b[0m\u001b[0;34m.\u001b[0m\u001b[0mlower\u001b[0m\u001b[0;34m(\u001b[0m\u001b[0;34m)\u001b[0m \u001b[0;32mfor\u001b[0m \u001b[0mword\u001b[0m \u001b[0;32min\u001b[0m \u001b[0mremove_punctuation\u001b[0m \u001b[0;32mif\u001b[0m \u001b[0mword\u001b[0m\u001b[0;34m.\u001b[0m\u001b[0mlower\u001b[0m\u001b[0;34m(\u001b[0m\u001b[0;34m)\u001b[0m \u001b[0;32mnot\u001b[0m \u001b[0;32min\u001b[0m \u001b[0mstopwords\u001b[0m\u001b[0;34m.\u001b[0m\u001b[0mwords\u001b[0m\u001b[0;34m(\u001b[0m\u001b[0;34m'english'\u001b[0m\u001b[0;34m)\u001b[0m\u001b[0;34m]\u001b[0m\u001b[0;34m\u001b[0m\u001b[0;34m\u001b[0m\u001b[0m\n\u001b[0m\u001b[1;32m     11\u001b[0m     \u001b[0;32mreturn\u001b[0m \u001b[0mfiltered_sms\u001b[0m\u001b[0;34m\u001b[0m\u001b[0;34m\u001b[0m\u001b[0m\n",
            "\u001b[0;32m/usr/local/lib/python3.6/dist-packages/nltk/corpus/reader/wordlist.py\u001b[0m in \u001b[0;36mwords\u001b[0;34m(self, fileids, ignore_lines_startswith)\u001b[0m\n\u001b[1;32m     20\u001b[0m     \"\"\"\n\u001b[1;32m     21\u001b[0m     \u001b[0;32mdef\u001b[0m \u001b[0mwords\u001b[0m\u001b[0;34m(\u001b[0m\u001b[0mself\u001b[0m\u001b[0;34m,\u001b[0m \u001b[0mfileids\u001b[0m\u001b[0;34m=\u001b[0m\u001b[0;32mNone\u001b[0m\u001b[0;34m,\u001b[0m \u001b[0mignore_lines_startswith\u001b[0m\u001b[0;34m=\u001b[0m\u001b[0;34m'\\n'\u001b[0m\u001b[0;34m)\u001b[0m\u001b[0;34m:\u001b[0m\u001b[0;34m\u001b[0m\u001b[0;34m\u001b[0m\u001b[0m\n\u001b[0;32m---> 22\u001b[0;31m         return [line for line in line_tokenize(self.raw(fileids))\n\u001b[0m\u001b[1;32m     23\u001b[0m                 if not line.startswith(ignore_lines_startswith)]\n\u001b[1;32m     24\u001b[0m \u001b[0;34m\u001b[0m\u001b[0m\n",
            "\u001b[0;32m/usr/local/lib/python3.6/dist-packages/nltk/tokenize/simple.py\u001b[0m in \u001b[0;36mline_tokenize\u001b[0;34m(text, blanklines)\u001b[0m\n\u001b[1;32m    131\u001b[0m \u001b[0;34m\u001b[0m\u001b[0m\n\u001b[1;32m    132\u001b[0m \u001b[0;32mdef\u001b[0m \u001b[0mline_tokenize\u001b[0m\u001b[0;34m(\u001b[0m\u001b[0mtext\u001b[0m\u001b[0;34m,\u001b[0m \u001b[0mblanklines\u001b[0m\u001b[0;34m=\u001b[0m\u001b[0;34m'discard'\u001b[0m\u001b[0;34m)\u001b[0m\u001b[0;34m:\u001b[0m\u001b[0;34m\u001b[0m\u001b[0;34m\u001b[0m\u001b[0m\n\u001b[0;32m--> 133\u001b[0;31m     \u001b[0;32mreturn\u001b[0m \u001b[0mLineTokenizer\u001b[0m\u001b[0;34m(\u001b[0m\u001b[0mblanklines\u001b[0m\u001b[0;34m)\u001b[0m\u001b[0;34m.\u001b[0m\u001b[0mtokenize\u001b[0m\u001b[0;34m(\u001b[0m\u001b[0mtext\u001b[0m\u001b[0;34m)\u001b[0m\u001b[0;34m\u001b[0m\u001b[0;34m\u001b[0m\u001b[0m\n\u001b[0m\u001b[1;32m    134\u001b[0m \u001b[0;34m\u001b[0m\u001b[0m\n\u001b[1;32m    135\u001b[0m \u001b[0;34m\u001b[0m\u001b[0m\n",
            "\u001b[0;32m/usr/local/lib/python3.6/dist-packages/nltk/tokenize/simple.py\u001b[0m in \u001b[0;36mtokenize\u001b[0;34m(self, s)\u001b[0m\n\u001b[1;32m    107\u001b[0m \u001b[0;34m\u001b[0m\u001b[0m\n\u001b[1;32m    108\u001b[0m     \u001b[0;32mdef\u001b[0m \u001b[0mtokenize\u001b[0m\u001b[0;34m(\u001b[0m\u001b[0mself\u001b[0m\u001b[0;34m,\u001b[0m \u001b[0ms\u001b[0m\u001b[0;34m)\u001b[0m\u001b[0;34m:\u001b[0m\u001b[0;34m\u001b[0m\u001b[0;34m\u001b[0m\u001b[0m\n\u001b[0;32m--> 109\u001b[0;31m         \u001b[0mlines\u001b[0m \u001b[0;34m=\u001b[0m \u001b[0ms\u001b[0m\u001b[0;34m.\u001b[0m\u001b[0msplitlines\u001b[0m\u001b[0;34m(\u001b[0m\u001b[0;34m)\u001b[0m\u001b[0;34m\u001b[0m\u001b[0;34m\u001b[0m\u001b[0m\n\u001b[0m\u001b[1;32m    110\u001b[0m         \u001b[0;31m# If requested, strip off blank lines.\u001b[0m\u001b[0;34m\u001b[0m\u001b[0;34m\u001b[0m\u001b[0;34m\u001b[0m\u001b[0m\n\u001b[1;32m    111\u001b[0m         \u001b[0;32mif\u001b[0m \u001b[0mself\u001b[0m\u001b[0;34m.\u001b[0m\u001b[0m_blanklines\u001b[0m \u001b[0;34m==\u001b[0m \u001b[0;34m'discard'\u001b[0m\u001b[0;34m:\u001b[0m\u001b[0;34m\u001b[0m\u001b[0;34m\u001b[0m\u001b[0m\n",
            "\u001b[0;31mKeyboardInterrupt\u001b[0m: "
          ]
        }
      ]
    },
    {
      "cell_type": "code",
      "metadata": {
        "id": "GYpuif_fKy-7"
      },
      "source": [
        "sentiment_df = pd.read_csv('/content/ai_spotle/finalSentimentdata2.csv')"
      ],
      "execution_count": 43,
      "outputs": []
    },
    {
      "cell_type": "code",
      "metadata": {
        "id": "DLKm0sR0NF3s",
        "outputId": "a8decb46-0ff5-4d52-ebef-679549ca9175",
        "colab": {
          "base_uri": "https://localhost:8080/",
          "height": 229
        }
      },
      "source": [
        "sentiment_df.head()"
      ],
      "execution_count": 44,
      "outputs": [
        {
          "output_type": "execute_result",
          "data": {
            "text/html": [
              "<div>\n",
              "<style scoped>\n",
              "    .dataframe tbody tr th:only-of-type {\n",
              "        vertical-align: middle;\n",
              "    }\n",
              "\n",
              "    .dataframe tbody tr th {\n",
              "        vertical-align: top;\n",
              "    }\n",
              "\n",
              "    .dataframe thead th {\n",
              "        text-align: right;\n",
              "    }\n",
              "</style>\n",
              "<table border=\"1\" class=\"dataframe\">\n",
              "  <thead>\n",
              "    <tr style=\"text-align: right;\">\n",
              "      <th></th>\n",
              "      <th>Unnamed: 0</th>\n",
              "      <th>sentiment</th>\n",
              "      <th>text</th>\n",
              "    </tr>\n",
              "  </thead>\n",
              "  <tbody>\n",
              "    <tr>\n",
              "      <th>0</th>\n",
              "      <td>3204</td>\n",
              "      <td>sad</td>\n",
              "      <td>agree the poor in india are treated badly their poors seek a living in singapore and are treated like citizens they are given free medical treatment given food daily sim cards to call home to tell their family that they are fine if covid 19 case treated foc in hospitals</td>\n",
              "    </tr>\n",
              "    <tr>\n",
              "      <th>1</th>\n",
              "      <td>1431</td>\n",
              "      <td>joy</td>\n",
              "      <td>if only i could have spent the with this cutie vc sakshi__s i n g h coast crossing republik …</td>\n",
              "    </tr>\n",
              "    <tr>\n",
              "      <th>2</th>\n",
              "      <td>654</td>\n",
              "      <td>joy</td>\n",
              "      <td>will nature conservation remain a priority in post corona bangladesh | the daily star</td>\n",
              "    </tr>\n",
              "    <tr>\n",
              "      <th>3</th>\n",
              "      <td>2530</td>\n",
              "      <td>sad</td>\n",
              "      <td>coronavirus disappearing in italy show this to \"intellectuals\" who say lockdowns do not work …</td>\n",
              "    </tr>\n",
              "    <tr>\n",
              "      <th>4</th>\n",
              "      <td>2296</td>\n",
              "      <td>sad</td>\n",
              "      <td>uk records lowest daily virus death toll since start of lockdown govt</td>\n",
              "    </tr>\n",
              "  </tbody>\n",
              "</table>\n",
              "</div>"
            ],
            "text/plain": [
              "   Unnamed: 0  ...                                                                                                                                                                                                                                                                            text\n",
              "0  3204        ...  agree the poor in india are treated badly their poors seek a living in singapore and are treated like citizens they are given free medical treatment given food daily sim cards to call home to tell their family that they are fine if covid 19 case treated foc in hospitals\n",
              "1  1431        ...  if only i could have spent the with this cutie vc sakshi__s i n g h coast crossing republik …                                                                                                                                                                                 \n",
              "2  654         ...  will nature conservation remain a priority in post corona bangladesh | the daily star                                                                                                                                                                                         \n",
              "3  2530        ...  coronavirus disappearing in italy show this to \"intellectuals\" who say lockdowns do not work …                                                                                                                                                                                \n",
              "4  2296        ...  uk records lowest daily virus death toll since start of lockdown govt                                                                                                                                                                                                         \n",
              "\n",
              "[5 rows x 3 columns]"
            ]
          },
          "metadata": {
            "tags": []
          },
          "execution_count": 44
        }
      ]
    },
    {
      "cell_type": "code",
      "metadata": {
        "id": "EZXTRjxKUM4g"
      },
      "source": [
        "num_classes = 4\n",
        "\n",
        "# Number of dimensions for word embedding\n",
        "embed_num_dims = 300\n",
        "\n",
        "# Max input length (max number of words) \n",
        "max_seq_len = 500\n",
        "\n",
        "class_names = ['joy', 'fear', 'anger', 'sad']"
      ],
      "execution_count": 45,
      "outputs": []
    },
    {
      "cell_type": "code",
      "metadata": {
        "id": "PWCN0IfjUU9t"
      },
      "source": [
        "data_train =  sentiment_df[:2472]\n",
        "data_test = sentiment_df[2472:]\n",
        "\n",
        "X_train = data_train.text\n",
        "X_test = data_test.text\n",
        "\n",
        "y_train = data_train.sentiment\n",
        "y_test = data_test.sentiment\n",
        "\n",
        "data = data_train.append(data_test, ignore_index=True)"
      ],
      "execution_count": 46,
      "outputs": []
    },
    {
      "cell_type": "code",
      "metadata": {
        "id": "aGOlZcp2Ut9g"
      },
      "source": [
        "def clean_text(data):\n",
        "    \n",
        "    # remove hashtags and @usernames\n",
        "    data = re.sub(r\"(#[\\d\\w\\.]+)\", '', data)\n",
        "    data = re.sub(r\"(@[\\d\\w\\.]+)\", '', data)\n",
        "    \n",
        "    # tekenization using nltk\n",
        "    data = word_tokenize(data)\n",
        "    \n",
        "    return data"
      ],
      "execution_count": 47,
      "outputs": []
    },
    {
      "cell_type": "code",
      "metadata": {
        "id": "p_xHU3MvU5ub"
      },
      "source": [
        "texts = [' '.join(clean_text(text)) for text in data.text]\n",
        "\n",
        "texts_train = [' '.join(clean_text(text)) for text in X_train]\n",
        "texts_test = [' '.join(clean_text(text)) for text in X_test]"
      ],
      "execution_count": 48,
      "outputs": []
    },
    {
      "cell_type": "code",
      "metadata": {
        "id": "PcSawzIlU8St",
        "outputId": "56d5a694-1f06-4348-fc73-20f010c10f17",
        "colab": {
          "base_uri": "https://localhost:8080/",
          "height": 34
        }
      },
      "source": [
        "tokenizer = Tokenizer()\n",
        "tokenizer.fit_on_texts(texts)\n",
        "\n",
        "sequence_train = tokenizer.texts_to_sequences(texts_train)\n",
        "sequence_test = tokenizer.texts_to_sequences(texts_test)\n",
        "\n",
        "index_of_words = tokenizer.word_index\n",
        "\n",
        "# vacab size is number of unique words + reserved 0 index for padding\n",
        "vocab_size = len(index_of_words) + 1\n",
        "\n",
        "print('Number of unique words: {}'.format(len(index_of_words)))"
      ],
      "execution_count": 49,
      "outputs": [
        {
          "output_type": "stream",
          "text": [
            "Number of unique words: 10575\n"
          ],
          "name": "stdout"
        }
      ]
    },
    {
      "cell_type": "code",
      "metadata": {
        "id": "oAc2dY8oVBMm",
        "outputId": "2e99af28-0702-4730-b923-2d84b873f770",
        "colab": {
          "base_uri": "https://localhost:8080/",
          "height": 134
        }
      },
      "source": [
        "X_train_pad = pad_sequences(sequence_train, maxlen = max_seq_len )\n",
        "X_test_pad = pad_sequences(sequence_test, maxlen = max_seq_len )\n",
        "\n",
        "X_train_pad"
      ],
      "execution_count": 50,
      "outputs": [
        {
          "output_type": "execute_result",
          "data": {
            "text/plain": [
              "array([[   0,    0,    0, ..., 3111,    6,  409],\n",
              "       [   0,    0,    0, ..., 4546, 4547,   30],\n",
              "       [   0,    0,    0, ...,    1,  280,  839],\n",
              "       ...,\n",
              "       [   0,    0,    0, ...,  223, 2338,  238],\n",
              "       [   0,    0,    0, ...,   34,   35, 9354],\n",
              "       [   0,    0,    0, ..., 2318,  659,  178]], dtype=int32)"
            ]
          },
          "metadata": {
            "tags": []
          },
          "execution_count": 50
        }
      ]
    },
    {
      "cell_type": "code",
      "metadata": {
        "id": "SQTrpyEKVEI7"
      },
      "source": [
        "encoding = {\n",
        "    'joy': 0,\n",
        "    'fear': 1,\n",
        "    'anger': 2,\n",
        "    'sad': 3,\n",
        "}\n",
        "\n",
        "# Integer labels\n",
        "y_train = [encoding[x] for x in data_train.sentiment]\n",
        "y_test = [encoding[x] for x in data_test.sentiment]"
      ],
      "execution_count": 51,
      "outputs": []
    },
    {
      "cell_type": "code",
      "metadata": {
        "id": "mUrXQbMMVIBP",
        "outputId": "3b6bf950-b027-436b-be90-310a381a55f6",
        "colab": {
          "base_uri": "https://localhost:8080/",
          "height": 134
        }
      },
      "source": [
        "y_train = to_categorical(y_train)\n",
        "y_test = to_categorical(y_test)\n",
        "\n",
        "y_train"
      ],
      "execution_count": 52,
      "outputs": [
        {
          "output_type": "execute_result",
          "data": {
            "text/plain": [
              "array([[0., 0., 0., 1.],\n",
              "       [1., 0., 0., 0.],\n",
              "       [1., 0., 0., 0.],\n",
              "       ...,\n",
              "       [0., 0., 0., 1.],\n",
              "       [1., 0., 0., 0.],\n",
              "       [0., 0., 1., 0.]], dtype=float32)"
            ]
          },
          "metadata": {
            "tags": []
          },
          "execution_count": 52
        }
      ]
    },
    {
      "cell_type": "code",
      "metadata": {
        "id": "pxifskOZVQkz"
      },
      "source": [
        "def create_embedding_matrix(filepath, word_index, embedding_dim):\n",
        "    vocab_size = len(word_index) + 1  # Adding again 1 because of reserved 0 index\n",
        "    embedding_matrix = np.zeros((vocab_size, embedding_dim))\n",
        "    with open(filepath) as f:\n",
        "        for line in f:\n",
        "            word, *vector = line.split()\n",
        "            if word in word_index:\n",
        "                idx = word_index[word] \n",
        "                embedding_matrix[idx] = np.array(\n",
        "                    vector, dtype=np.float32)[:embedding_dim]\n",
        "    return embedding_matrix"
      ],
      "execution_count": 53,
      "outputs": []
    },
    {
      "cell_type": "code",
      "metadata": {
        "id": "DOUQej-3VTsR",
        "outputId": "2b9397af-be34-4cbe-dec8-bc2d7efb21ed",
        "colab": {
          "base_uri": "https://localhost:8080/",
          "height": 67
        }
      },
      "source": [
        "import urllib.request\n",
        "import zipfile\n",
        "import os\n",
        "\n",
        "fname = 'embeddings/wiki-news-300d-1M.vec'\n",
        "\n",
        "if not os.path.isfile(fname):\n",
        "    print('Downloading word vectors...')\n",
        "    urllib.request.urlretrieve('https://dl.fbaipublicfiles.com/fasttext/vectors-english/wiki-news-300d-1M.vec.zip',\n",
        "                              'wiki-news-300d-1M.vec.zip')\n",
        "    print('Unzipping...')\n",
        "    with zipfile.ZipFile('wiki-news-300d-1M.vec.zip', 'r') as zip_ref:\n",
        "        zip_ref.extractall('embeddings')\n",
        "    print('done.')\n",
        "    \n",
        "    os.remove('wiki-news-300d-1M.vec.zip')"
      ],
      "execution_count": 54,
      "outputs": [
        {
          "output_type": "stream",
          "text": [
            "Downloading word vectors...\n",
            "Unzipping...\n",
            "done.\n"
          ],
          "name": "stdout"
        }
      ]
    },
    {
      "cell_type": "code",
      "metadata": {
        "id": "JxE_HGJYVVu5",
        "outputId": "9c6f6a47-92de-4611-99f7-cf11e71ab36e",
        "colab": {
          "base_uri": "https://localhost:8080/",
          "height": 34
        }
      },
      "source": [
        "embedd_matrix = create_embedding_matrix('/content/embeddings/wiki-news-300d-1M.vec', index_of_words, embed_num_dims)\n",
        "embedd_matrix.shape"
      ],
      "execution_count": 55,
      "outputs": [
        {
          "output_type": "execute_result",
          "data": {
            "text/plain": [
              "(10576, 300)"
            ]
          },
          "metadata": {
            "tags": []
          },
          "execution_count": 55
        }
      ]
    },
    {
      "cell_type": "code",
      "metadata": {
        "id": "LpMQ-DkmVYJ0",
        "outputId": "ea5512e4-08a6-4082-f23c-7d08106807d7",
        "colab": {
          "base_uri": "https://localhost:8080/",
          "height": 50
        }
      },
      "source": [
        "new_words = 0\n",
        "\n",
        "for word in index_of_words:\n",
        "    entry = embedd_matrix[index_of_words[word]]\n",
        "    if all(v == 0 for v in entry):\n",
        "        new_words = new_words + 1\n",
        "\n",
        "print('Words found in wiki vocab: ' + str(len(index_of_words) - new_words))\n",
        "print('New words found: ' + str(new_words))"
      ],
      "execution_count": 56,
      "outputs": [
        {
          "output_type": "stream",
          "text": [
            "Words found in wiki vocab: 8945\n",
            "New words found: 1630\n"
          ],
          "name": "stdout"
        }
      ]
    },
    {
      "cell_type": "code",
      "metadata": {
        "id": "SKiAOR9RVa2-"
      },
      "source": [
        "embedd_layer = Embedding(vocab_size,\n",
        "                         embed_num_dims,\n",
        "                         input_length = max_seq_len,\n",
        "                         weights = [embedd_matrix],\n",
        "                         trainable=False)"
      ],
      "execution_count": 57,
      "outputs": []
    },
    {
      "cell_type": "code",
      "metadata": {
        "id": "-o-5evoEVczm"
      },
      "source": [
        "# Convolution\n",
        "kernel_size = 3\n",
        "filters = 256\n",
        "\n",
        "model = Sequential()\n",
        "model.add(embedd_layer)\n",
        "model.add(Conv1D(filters, kernel_size, activation='relu'))\n",
        "model.add(GlobalMaxPooling1D())\n",
        "model.add(Dense(256, activation='relu'))\n",
        "model.add(Dense(num_classes, activation='softmax'))"
      ],
      "execution_count": 58,
      "outputs": []
    },
    {
      "cell_type": "code",
      "metadata": {
        "id": "5r-y48coVfVv",
        "outputId": "32bb766a-006f-4115-d56d-ecc09f8da7dc",
        "colab": {
          "base_uri": "https://localhost:8080/",
          "height": 319
        }
      },
      "source": [
        "model.compile(loss = 'categorical_crossentropy', optimizer = 'adam', metrics = ['accuracy'])\n",
        "model.summary()"
      ],
      "execution_count": 59,
      "outputs": [
        {
          "output_type": "stream",
          "text": [
            "Model: \"sequential\"\n",
            "_________________________________________________________________\n",
            "Layer (type)                 Output Shape              Param #   \n",
            "=================================================================\n",
            "embedding (Embedding)        (None, 500, 300)          3172800   \n",
            "_________________________________________________________________\n",
            "conv1d (Conv1D)              (None, 498, 256)          230656    \n",
            "_________________________________________________________________\n",
            "global_max_pooling1d (Global (None, 256)               0         \n",
            "_________________________________________________________________\n",
            "dense (Dense)                (None, 256)               65792     \n",
            "_________________________________________________________________\n",
            "dense_1 (Dense)              (None, 4)                 1028      \n",
            "=================================================================\n",
            "Total params: 3,470,276\n",
            "Trainable params: 297,476\n",
            "Non-trainable params: 3,172,800\n",
            "_________________________________________________________________\n"
          ],
          "name": "stdout"
        }
      ]
    },
    {
      "cell_type": "code",
      "metadata": {
        "id": "Mt7aJ91MVhlF",
        "outputId": "8311d4f5-c376-4c19-cc1d-f3b58bb287b3",
        "colab": {
          "base_uri": "https://localhost:8080/",
          "height": 1000
        }
      },
      "source": [
        "batch_size = 256\n",
        "epochs = 50\n",
        "\n",
        "hist = model.fit(X_train_pad, y_train, \n",
        "                 batch_size=batch_size,\n",
        "                 epochs=epochs,\n",
        "                 validation_data=(X_test_pad,y_test))"
      ],
      "execution_count": 60,
      "outputs": [
        {
          "output_type": "stream",
          "text": [
            "Epoch 1/50\n",
            "10/10 [==============================] - 1s 100ms/step - loss: 1.3260 - accuracy: 0.3612 - val_loss: 1.1975 - val_accuracy: 0.5016\n",
            "Epoch 2/50\n",
            "10/10 [==============================] - 1s 73ms/step - loss: 1.0792 - accuracy: 0.5667 - val_loss: 1.0766 - val_accuracy: 0.4887\n",
            "Epoch 3/50\n",
            "10/10 [==============================] - 1s 73ms/step - loss: 0.9277 - accuracy: 0.6234 - val_loss: 0.9888 - val_accuracy: 0.5550\n",
            "Epoch 4/50\n",
            "10/10 [==============================] - 1s 72ms/step - loss: 0.7629 - accuracy: 0.7407 - val_loss: 0.8926 - val_accuracy: 0.6165\n",
            "Epoch 5/50\n",
            "10/10 [==============================] - 1s 72ms/step - loss: 0.6108 - accuracy: 0.8135 - val_loss: 0.8063 - val_accuracy: 0.6683\n",
            "Epoch 6/50\n",
            "10/10 [==============================] - 1s 72ms/step - loss: 0.4610 - accuracy: 0.8673 - val_loss: 0.7334 - val_accuracy: 0.7104\n",
            "Epoch 7/50\n",
            "10/10 [==============================] - 1s 72ms/step - loss: 0.3458 - accuracy: 0.9167 - val_loss: 0.6835 - val_accuracy: 0.7379\n",
            "Epoch 8/50\n",
            "10/10 [==============================] - 1s 72ms/step - loss: 0.2486 - accuracy: 0.9498 - val_loss: 0.6753 - val_accuracy: 0.7427\n",
            "Epoch 9/50\n",
            "10/10 [==============================] - 1s 72ms/step - loss: 0.1747 - accuracy: 0.9741 - val_loss: 0.6920 - val_accuracy: 0.7298\n",
            "Epoch 10/50\n",
            "10/10 [==============================] - 1s 72ms/step - loss: 0.1225 - accuracy: 0.9887 - val_loss: 0.6904 - val_accuracy: 0.7395\n",
            "Epoch 11/50\n",
            "10/10 [==============================] - 1s 72ms/step - loss: 0.0817 - accuracy: 0.9960 - val_loss: 0.6879 - val_accuracy: 0.7557\n",
            "Epoch 12/50\n",
            "10/10 [==============================] - 1s 73ms/step - loss: 0.0548 - accuracy: 0.9988 - val_loss: 0.7269 - val_accuracy: 0.7411\n",
            "Epoch 13/50\n",
            "10/10 [==============================] - 1s 72ms/step - loss: 0.0395 - accuracy: 0.9996 - val_loss: 0.7265 - val_accuracy: 0.7492\n",
            "Epoch 14/50\n",
            "10/10 [==============================] - 1s 71ms/step - loss: 0.0287 - accuracy: 0.9996 - val_loss: 0.7270 - val_accuracy: 0.7508\n",
            "Epoch 15/50\n",
            "10/10 [==============================] - 1s 72ms/step - loss: 0.0230 - accuracy: 0.9996 - val_loss: 0.7464 - val_accuracy: 0.7395\n",
            "Epoch 16/50\n",
            "10/10 [==============================] - 1s 71ms/step - loss: 0.0184 - accuracy: 0.9992 - val_loss: 0.7618 - val_accuracy: 0.7476\n",
            "Epoch 17/50\n",
            "10/10 [==============================] - 1s 72ms/step - loss: 0.0148 - accuracy: 0.9996 - val_loss: 0.7797 - val_accuracy: 0.7492\n",
            "Epoch 18/50\n",
            "10/10 [==============================] - 1s 72ms/step - loss: 0.0128 - accuracy: 0.9996 - val_loss: 0.7777 - val_accuracy: 0.7443\n",
            "Epoch 19/50\n",
            "10/10 [==============================] - 1s 72ms/step - loss: 0.0116 - accuracy: 0.9996 - val_loss: 0.7967 - val_accuracy: 0.7460\n",
            "Epoch 20/50\n",
            "10/10 [==============================] - 1s 72ms/step - loss: 0.0091 - accuracy: 0.9996 - val_loss: 0.8049 - val_accuracy: 0.7362\n",
            "Epoch 21/50\n",
            "10/10 [==============================] - 1s 72ms/step - loss: 0.0099 - accuracy: 0.9996 - val_loss: 0.8167 - val_accuracy: 0.7395\n",
            "Epoch 22/50\n",
            "10/10 [==============================] - 1s 71ms/step - loss: 0.0068 - accuracy: 0.9996 - val_loss: 0.8220 - val_accuracy: 0.7395\n",
            "Epoch 23/50\n",
            "10/10 [==============================] - 1s 72ms/step - loss: 0.0059 - accuracy: 0.9996 - val_loss: 0.8314 - val_accuracy: 0.7395\n",
            "Epoch 24/50\n",
            "10/10 [==============================] - 1s 72ms/step - loss: 0.0068 - accuracy: 0.9996 - val_loss: 0.8407 - val_accuracy: 0.7395\n",
            "Epoch 25/50\n",
            "10/10 [==============================] - 1s 72ms/step - loss: 0.0058 - accuracy: 0.9996 - val_loss: 0.8651 - val_accuracy: 0.7314\n",
            "Epoch 26/50\n",
            "10/10 [==============================] - 1s 72ms/step - loss: 0.0049 - accuracy: 0.9992 - val_loss: 0.8545 - val_accuracy: 0.7379\n",
            "Epoch 27/50\n",
            "10/10 [==============================] - 1s 72ms/step - loss: 0.0061 - accuracy: 0.9996 - val_loss: 0.8786 - val_accuracy: 0.7460\n",
            "Epoch 28/50\n",
            "10/10 [==============================] - 1s 72ms/step - loss: 0.0045 - accuracy: 0.9996 - val_loss: 0.8901 - val_accuracy: 0.7314\n",
            "Epoch 29/50\n",
            "10/10 [==============================] - 1s 72ms/step - loss: 0.0058 - accuracy: 0.9996 - val_loss: 0.9197 - val_accuracy: 0.7314\n",
            "Epoch 30/50\n",
            "10/10 [==============================] - 1s 72ms/step - loss: 0.0046 - accuracy: 0.9992 - val_loss: 0.8892 - val_accuracy: 0.7395\n",
            "Epoch 31/50\n",
            "10/10 [==============================] - 1s 72ms/step - loss: 0.0038 - accuracy: 0.9996 - val_loss: 0.8949 - val_accuracy: 0.7411\n",
            "Epoch 32/50\n",
            "10/10 [==============================] - 1s 73ms/step - loss: 0.0042 - accuracy: 0.9996 - val_loss: 0.8976 - val_accuracy: 0.7427\n",
            "Epoch 33/50\n",
            "10/10 [==============================] - 1s 72ms/step - loss: 0.0048 - accuracy: 0.9996 - val_loss: 0.9099 - val_accuracy: 0.7346\n",
            "Epoch 34/50\n",
            "10/10 [==============================] - 1s 72ms/step - loss: 0.0030 - accuracy: 0.9996 - val_loss: 0.9255 - val_accuracy: 0.7330\n",
            "Epoch 35/50\n",
            "10/10 [==============================] - 1s 73ms/step - loss: 0.0037 - accuracy: 0.9996 - val_loss: 0.9326 - val_accuracy: 0.7427\n",
            "Epoch 36/50\n",
            "10/10 [==============================] - 1s 72ms/step - loss: 0.0039 - accuracy: 0.9992 - val_loss: 0.9172 - val_accuracy: 0.7379\n",
            "Epoch 37/50\n",
            "10/10 [==============================] - 1s 73ms/step - loss: 0.0038 - accuracy: 0.9996 - val_loss: 0.9328 - val_accuracy: 0.7362\n",
            "Epoch 38/50\n",
            "10/10 [==============================] - 1s 73ms/step - loss: 0.0041 - accuracy: 0.9992 - val_loss: 0.9268 - val_accuracy: 0.7362\n",
            "Epoch 39/50\n",
            "10/10 [==============================] - 1s 72ms/step - loss: 0.0041 - accuracy: 0.9996 - val_loss: 0.9596 - val_accuracy: 0.7427\n",
            "Epoch 40/50\n",
            "10/10 [==============================] - 1s 72ms/step - loss: 0.0030 - accuracy: 0.9992 - val_loss: 0.9296 - val_accuracy: 0.7330\n",
            "Epoch 41/50\n",
            "10/10 [==============================] - 1s 72ms/step - loss: 0.0045 - accuracy: 0.9996 - val_loss: 0.9465 - val_accuracy: 0.7362\n",
            "Epoch 42/50\n",
            "10/10 [==============================] - 1s 73ms/step - loss: 0.0037 - accuracy: 0.9996 - val_loss: 1.0032 - val_accuracy: 0.7249\n",
            "Epoch 43/50\n",
            "10/10 [==============================] - 1s 73ms/step - loss: 0.0038 - accuracy: 0.9996 - val_loss: 1.0385 - val_accuracy: 0.7314\n",
            "Epoch 44/50\n",
            "10/10 [==============================] - 1s 73ms/step - loss: 0.0043 - accuracy: 0.9996 - val_loss: 1.0555 - val_accuracy: 0.7104\n",
            "Epoch 45/50\n",
            "10/10 [==============================] - 1s 72ms/step - loss: 0.0033 - accuracy: 0.9996 - val_loss: 1.0379 - val_accuracy: 0.7395\n",
            "Epoch 46/50\n",
            "10/10 [==============================] - 1s 72ms/step - loss: 0.0031 - accuracy: 0.9996 - val_loss: 1.0501 - val_accuracy: 0.7249\n",
            "Epoch 47/50\n",
            "10/10 [==============================] - 1s 71ms/step - loss: 0.0062 - accuracy: 0.9996 - val_loss: 1.1159 - val_accuracy: 0.7217\n",
            "Epoch 48/50\n",
            "10/10 [==============================] - 1s 73ms/step - loss: 0.0069 - accuracy: 0.9992 - val_loss: 1.1307 - val_accuracy: 0.6942\n",
            "Epoch 49/50\n",
            "10/10 [==============================] - 1s 72ms/step - loss: 0.0034 - accuracy: 0.9992 - val_loss: 1.0256 - val_accuracy: 0.7265\n",
            "Epoch 50/50\n",
            "10/10 [==============================] - 1s 71ms/step - loss: 0.0028 - accuracy: 0.9992 - val_loss: 0.9993 - val_accuracy: 0.7395\n"
          ],
          "name": "stdout"
        }
      ]
    },
    {
      "cell_type": "code",
      "metadata": {
        "id": "QKqqBagYVkMc",
        "outputId": "da9b3afe-1052-44ff-d664-7da53415eff7",
        "colab": {
          "base_uri": "https://localhost:8080/",
          "height": 50
        }
      },
      "source": [
        "import time\n",
        "\n",
        "message = ['delivery was hour late and my pizza was cold!']\n",
        "\n",
        "seq = tokenizer.texts_to_sequences(message)\n",
        "padded = pad_sequences(seq, maxlen=max_seq_len)\n",
        "\n",
        "start_time = time.time()\n",
        "pred = model.predict(padded)\n",
        "\n",
        "print('Message: ' + str(message))\n",
        "print('predicted: {} ({:.2f} seconds)'.format(class_names[np.argmax(pred)], (time.time() - start_time)))"
      ],
      "execution_count": 61,
      "outputs": [
        {
          "output_type": "stream",
          "text": [
            "Message: ['delivery was hour late and my pizza was cold!']\n",
            "predicted: sad (0.10 seconds)\n"
          ],
          "name": "stdout"
        }
      ]
    },
    {
      "cell_type": "code",
      "metadata": {
        "id": "NoxBH4qNVyNj"
      },
      "source": [
        "import pandas as pd\n",
        "\n",
        "import os\n",
        "##combine all files in the lis\n",
        "#df=pd.read_json(\"/content/ai_spotle/aithon2020_level_3/aithon_level_3_2020-09-22T05_11_55.txt\")\n",
        "df = pd.concat([pd.read_json(\"/content/ai_spotle/aithon2020_level_3/\"+f) for c,f in enumerate(os.listdir(\"/content/ai_spotle/aithon2020_level_3/\")) ])"
      ],
      "execution_count": 62,
      "outputs": []
    },
    {
      "cell_type": "code",
      "metadata": {
        "id": "gd-SNErJV28_"
      },
      "source": [
        "tok = WordPunctTokenizer()\n",
        "lemma = WordNetLemmatizer()\n",
        "# patterns to remove html tags numbers and special Characters\n",
        "pat1 = r'@[A-Za-z0-9_]+'\n",
        "pat2 = r'https?://[^ ]+'\n",
        "op = r'\\bcovid\\b\\s+'\n",
        "combined_pat = r'|'.join((pat1, pat2))\n",
        "negations_dic = {\"isn't\":\"is not\", \"aren't\":\"are not\", \"wasn't\":\"was not\", \"weren't\":\"were not\",\n",
        "                \"haven't\":\"have not\",\"hasn't\":\"has not\",\"hadn't\":\"had not\",\"won't\":\"will not\",\n",
        "                \"wouldn't\":\"would not\", \"don't\":\"do not\", \"doesn't\":\"does not\",\"didn't\":\"did not\",\n",
        "                \"can't\":\"can not\",\"couldn't\":\"could not\",\"shouldn't\":\"should not\",\"mightn't\":\"might not\",\n",
        "                \"mustn't\":\"must not\"}\n",
        "shortcuts = {'u': 'you', 'y': 'why', 'r': 'are', 'doin': 'doing', 'hw': 'how', 'k': 'okay', 'm': 'am', 'b4': 'before',\n",
        "            'idc': \"i do not care\", 'ty': 'thankyou', 'wlcm': 'welcome', 'bc': 'because', '<3': 'love', 'xoxo': 'love',\n",
        "            'ttyl': 'talk to you later', 'gr8': 'great', 'bday': 'birthday', 'awsm': 'awesome', 'gud': 'good', 'h8': 'hate',\n",
        "            'lv': 'love', 'dm': 'direct message', 'rt': 'retweet', 'wtf': 'hate', 'idgaf': 'hate',\n",
        "             'irl': 'in real life', 'yolo': 'you only live once'}\n",
        "neg_pattern = re.compile(r'\\b(' + '|'.join(negations_dic.keys()) + r')\\b')\n",
        "shortcuts_pattern = re.compile(r'\\b(' + '|'.join(shortcuts.keys()) + r')\\b')\n",
        "def clean_text(text):\n",
        "    soup = BeautifulSoup(text, 'lxml')\n",
        "    souped = soup.get_text()\n",
        "    try:\n",
        "        bom_removed = souped.decode(\"utf-8-sig\").replace(u\"\\ufffd\", \"?\")\n",
        "    except:\n",
        "        bom_removed = souped\n",
        "    stripped = re.sub(combined_pat, '', bom_removed)#for removing patterns like #,@ and punctuation\n",
        "    lower_case = stripped.lower()\n",
        "    neg_handled = neg_pattern.sub(lambda x: negations_dic[x.group()], lower_case)\n",
        "    shortcuts_handled = shortcuts_pattern.sub(lambda x: shortcuts[x.group()],neg_handled)\n",
        "    letters_only = re.sub(\"[^a-zA-Z]\", \" \", shortcuts_handled)\n",
        "    # During the letters_only process two lines above, it has created unnecessay white spaces,\n",
        "    # I will tokenize and join together to remove unneccessary white spaces\n",
        "    words = [x for x  in tok.tokenize(letters_only) if len(x) > 1]\n",
        "    lemmated_words = [lemma.lemmatize(word) for word in words]\n",
        "    return (\" \".join( lemmated_words)).strip()"
      ],
      "execution_count": 63,
      "outputs": []
    },
    {
      "cell_type": "code",
      "metadata": {
        "id": "fPDZHA4jV7k7"
      },
      "source": [
        "df=df.drop_duplicates('text')\n",
        "#df=df[df['location'].apply(lambda x: x.lower().find(\"india\")>-1)]\n",
        "df['cleaned_tweets'] = df['text'].apply(lambda x: clean_text(x))"
      ],
      "execution_count": 64,
      "outputs": []
    },
    {
      "cell_type": "code",
      "metadata": {
        "id": "JFJJNBjDWDkt",
        "outputId": "4d983ac8-b14e-4e8c-d349-98b3a4446684",
        "colab": {
          "base_uri": "https://localhost:8080/",
          "height": 464
        }
      },
      "source": [
        "print(df.shape)\n",
        "df.head()"
      ],
      "execution_count": 65,
      "outputs": [
        {
          "output_type": "stream",
          "text": [
            "(13682, 5)\n"
          ],
          "name": "stdout"
        },
        {
          "output_type": "execute_result",
          "data": {
            "text/html": [
              "<div>\n",
              "<style scoped>\n",
              "    .dataframe tbody tr th:only-of-type {\n",
              "        vertical-align: middle;\n",
              "    }\n",
              "\n",
              "    .dataframe tbody tr th {\n",
              "        vertical-align: top;\n",
              "    }\n",
              "\n",
              "    .dataframe thead th {\n",
              "        text-align: right;\n",
              "    }\n",
              "</style>\n",
              "<table border=\"1\" class=\"dataframe\">\n",
              "  <thead>\n",
              "    <tr style=\"text-align: right;\">\n",
              "      <th></th>\n",
              "      <th>text</th>\n",
              "      <th>location</th>\n",
              "      <th>date</th>\n",
              "      <th>time</th>\n",
              "      <th>cleaned_tweets</th>\n",
              "    </tr>\n",
              "  </thead>\n",
              "  <tbody>\n",
              "    <tr>\n",
              "      <th>0</th>\n",
              "      <td>COVID-19 claims 6 more lives, infects 194 others: CM Sindh \\n\\n#APPNews @MuradAliShahPPP #coronavirus #Corona #CoronavirusPandemic \\n\\nhttps://t.co/M9brEO1Ghh via appcsocialmedia</td>\n",
              "      <td>IN</td>\n",
              "      <td>Sep 22</td>\n",
              "      <td>14:28:17</td>\n",
              "      <td>covid claim more life infects others cm sindh appnews coronavirus corona coronaviruspandemic via appcsocialmedia</td>\n",
              "    </tr>\n",
              "    <tr>\n",
              "      <th>1</th>\n",
              "      <td>@AlyssaCoachala @thehill \"deliberately embellished Corona virus\"🤣\\n\\nTRUMP: \\n\\n\"You just breathe the air and that’s how it’s passed.” \\n“COVID is much more deadly than even your strenuous flu.” “This is deadly stuff”\\n\\n“5% death rate”</td>\n",
              "      <td>Islamabad, Pakistan</td>\n",
              "      <td>Sep 22</td>\n",
              "      <td>14:28:01</td>\n",
              "      <td>deliberately embellished corona virus trump you just breathe the air and that how it passed covid is much more deadly than even your strenuous flu this is deadly stuff death rate</td>\n",
              "    </tr>\n",
              "    <tr>\n",
              "      <th>2</th>\n",
              "      <td>Covid-19 era diplomacy. Having Barents Euro-Arctic Council Senior Officials meeting in virtual format. Determined to further develop our cooperation despite the currents restrictions. Good discussion on future priorities on climate change beyond corona. ⁦@barents_beac⁩ https://t.co/ulJkUIDnPE</td>\n",
              "      <td>The NYC</td>\n",
              "      <td>Sep 22</td>\n",
              "      <td>14:27:32</td>\n",
              "      <td>covid era diplomacy having barents euro arctic council senior official meeting in virtual format determined to further develop our cooperation despite the current restriction good discussion on future priority on climate change beyond corona</td>\n",
              "    </tr>\n",
              "    <tr>\n",
              "      <th>3</th>\n",
              "      <td>@WINDOCTORRX Operation Corona was about hysteria and fear to falsely justify mail-in voting to fraud the election. That's why all deaths were listed as 'covid' with medical industry awarded a bounty for each death. https://t.co/1UyDI8OcIK</td>\n",
              "      <td>Helsinki, Finland</td>\n",
              "      <td>Sep 22</td>\n",
              "      <td>14:26:45</td>\n",
              "      <td>operation corona wa about hysteria and fear to falsely justify mail in voting to fraud the election that why all death were listed a covid with medical industry awarded bounty for each death</td>\n",
              "    </tr>\n",
              "    <tr>\n",
              "      <th>4</th>\n",
              "      <td>The neighborhood  kids can be  so funny!\\nA stray dog has delivered 3 puppies.\\nThe kids have named the mother Corona.......and the puppies are called Covid, Virus and Flu!! 🙆‍♀️🤦‍♀️\\n#Humourinlife</td>\n",
              "      <td>Erie Michigan</td>\n",
              "      <td>Sep 22</td>\n",
              "      <td>14:24:48</td>\n",
              "      <td>the neighborhood kid can be so funny stray dog ha delivered puppy the kid have named the mother corona and the puppy are called covid virus and flu humourinlife</td>\n",
              "    </tr>\n",
              "  </tbody>\n",
              "</table>\n",
              "</div>"
            ],
            "text/plain": [
              "                                                                                                                                                                                                                                                                                                    text  ...                                                                                                                                                                                                                                     cleaned_tweets\n",
              "0  COVID-19 claims 6 more lives, infects 194 others: CM Sindh \\n\\n#APPNews @MuradAliShahPPP #coronavirus #Corona #CoronavirusPandemic \\n\\nhttps://t.co/M9brEO1Ghh via appcsocialmedia                                                                                                                     ...  covid claim more life infects others cm sindh appnews coronavirus corona coronaviruspandemic via appcsocialmedia                                                                                                                                 \n",
              "1  @AlyssaCoachala @thehill \"deliberately embellished Corona virus\"🤣\\n\\nTRUMP: \\n\\n\"You just breathe the air and that’s how it’s passed.” \\n“COVID is much more deadly than even your strenuous flu.” “This is deadly stuff”\\n\\n“5% death rate”                                                           ...  deliberately embellished corona virus trump you just breathe the air and that how it passed covid is much more deadly than even your strenuous flu this is deadly stuff death rate                                                               \n",
              "2  Covid-19 era diplomacy. Having Barents Euro-Arctic Council Senior Officials meeting in virtual format. Determined to further develop our cooperation despite the currents restrictions. Good discussion on future priorities on climate change beyond corona. ⁦@barents_beac⁩ https://t.co/ulJkUIDnPE  ...  covid era diplomacy having barents euro arctic council senior official meeting in virtual format determined to further develop our cooperation despite the current restriction good discussion on future priority on climate change beyond corona\n",
              "3  @WINDOCTORRX Operation Corona was about hysteria and fear to falsely justify mail-in voting to fraud the election. That's why all deaths were listed as 'covid' with medical industry awarded a bounty for each death. https://t.co/1UyDI8OcIK                                                         ...  operation corona wa about hysteria and fear to falsely justify mail in voting to fraud the election that why all death were listed a covid with medical industry awarded bounty for each death                                                   \n",
              "4  The neighborhood  kids can be  so funny!\\nA stray dog has delivered 3 puppies.\\nThe kids have named the mother Corona.......and the puppies are called Covid, Virus and Flu!! 🙆‍♀️🤦‍♀️\\n#Humourinlife                                                                                                  ...  the neighborhood kid can be so funny stray dog ha delivered puppy the kid have named the mother corona and the puppy are called covid virus and flu humourinlife                                                                                 \n",
              "\n",
              "[5 rows x 5 columns]"
            ]
          },
          "metadata": {
            "tags": []
          },
          "execution_count": 65
        }
      ]
    },
    {
      "cell_type": "code",
      "metadata": {
        "id": "6yskIoO1WJ9p"
      },
      "source": [
        "def check(s):\n",
        "  message = [s]\n",
        "  seq = tokenizer.texts_to_sequences(message)\n",
        "  padded = pad_sequences(seq, maxlen=max_seq_len)\n",
        "  pred = model.predict(padded)\n",
        "  return class_names[np.argmax(pred)]\n",
        "df['analysis'] = df['cleaned_tweets'].apply(lambda x : check(x))"
      ],
      "execution_count": 66,
      "outputs": []
    },
    {
      "cell_type": "code",
      "metadata": {
        "id": "fra35dSsZAvu",
        "outputId": "42c6aaf0-2d6b-4212-c2c0-a8285973a07d",
        "colab": {
          "base_uri": "https://localhost:8080/",
          "height": 195
        }
      },
      "source": [
        "df.groupby('analysis').count()"
      ],
      "execution_count": 67,
      "outputs": [
        {
          "output_type": "execute_result",
          "data": {
            "text/html": [
              "<div>\n",
              "<style scoped>\n",
              "    .dataframe tbody tr th:only-of-type {\n",
              "        vertical-align: middle;\n",
              "    }\n",
              "\n",
              "    .dataframe tbody tr th {\n",
              "        vertical-align: top;\n",
              "    }\n",
              "\n",
              "    .dataframe thead th {\n",
              "        text-align: right;\n",
              "    }\n",
              "</style>\n",
              "<table border=\"1\" class=\"dataframe\">\n",
              "  <thead>\n",
              "    <tr style=\"text-align: right;\">\n",
              "      <th></th>\n",
              "      <th>text</th>\n",
              "      <th>location</th>\n",
              "      <th>date</th>\n",
              "      <th>time</th>\n",
              "      <th>cleaned_tweets</th>\n",
              "    </tr>\n",
              "    <tr>\n",
              "      <th>analysis</th>\n",
              "      <th></th>\n",
              "      <th></th>\n",
              "      <th></th>\n",
              "      <th></th>\n",
              "      <th></th>\n",
              "    </tr>\n",
              "  </thead>\n",
              "  <tbody>\n",
              "    <tr>\n",
              "      <th>anger</th>\n",
              "      <td>1626</td>\n",
              "      <td>1626</td>\n",
              "      <td>1626</td>\n",
              "      <td>1626</td>\n",
              "      <td>1626</td>\n",
              "    </tr>\n",
              "    <tr>\n",
              "      <th>fear</th>\n",
              "      <td>4007</td>\n",
              "      <td>4007</td>\n",
              "      <td>4007</td>\n",
              "      <td>4007</td>\n",
              "      <td>4007</td>\n",
              "    </tr>\n",
              "    <tr>\n",
              "      <th>joy</th>\n",
              "      <td>2758</td>\n",
              "      <td>2758</td>\n",
              "      <td>2758</td>\n",
              "      <td>2758</td>\n",
              "      <td>2758</td>\n",
              "    </tr>\n",
              "    <tr>\n",
              "      <th>sad</th>\n",
              "      <td>5291</td>\n",
              "      <td>5291</td>\n",
              "      <td>5291</td>\n",
              "      <td>5291</td>\n",
              "      <td>5291</td>\n",
              "    </tr>\n",
              "  </tbody>\n",
              "</table>\n",
              "</div>"
            ],
            "text/plain": [
              "          text  location  date  time  cleaned_tweets\n",
              "analysis                                            \n",
              "anger     1626  1626      1626  1626  1626          \n",
              "fear      4007  4007      4007  4007  4007          \n",
              "joy       2758  2758      2758  2758  2758          \n",
              "sad       5291  5291      5291  5291  5291          "
            ]
          },
          "metadata": {
            "tags": []
          },
          "execution_count": 67
        }
      ]
    },
    {
      "cell_type": "code",
      "metadata": {
        "id": "BnCYgJMjWRh2",
        "outputId": "caf30a83-1b1d-4d18-8fd7-40d12b4642b2",
        "colab": {
          "base_uri": "https://localhost:8080/",
          "height": 948
        }
      },
      "source": [
        ""
      ],
      "execution_count": 68,
      "outputs": [
        {
          "output_type": "execute_result",
          "data": {
            "text/html": [
              "<div>\n",
              "<style scoped>\n",
              "    .dataframe tbody tr th:only-of-type {\n",
              "        vertical-align: middle;\n",
              "    }\n",
              "\n",
              "    .dataframe tbody tr th {\n",
              "        vertical-align: top;\n",
              "    }\n",
              "\n",
              "    .dataframe thead th {\n",
              "        text-align: right;\n",
              "    }\n",
              "</style>\n",
              "<table border=\"1\" class=\"dataframe\">\n",
              "  <thead>\n",
              "    <tr style=\"text-align: right;\">\n",
              "      <th></th>\n",
              "      <th>text</th>\n",
              "      <th>location</th>\n",
              "      <th>date</th>\n",
              "      <th>time</th>\n",
              "      <th>cleaned_tweets</th>\n",
              "      <th>analysis</th>\n",
              "    </tr>\n",
              "  </thead>\n",
              "  <tbody>\n",
              "    <tr>\n",
              "      <th>0</th>\n",
              "      <td>COVID-19 claims 6 more lives, infects 194 others: CM Sindh \\n\\n#APPNews @MuradAliShahPPP #coronavirus #Corona #CoronavirusPandemic \\n\\nhttps://t.co/M9brEO1Ghh via appcsocialmedia</td>\n",
              "      <td>IN</td>\n",
              "      <td>Sep 22</td>\n",
              "      <td>14:28:17</td>\n",
              "      <td>covid claim more life infects others cm sindh appnews coronavirus corona coronaviruspandemic via appcsocialmedia</td>\n",
              "      <td>sad</td>\n",
              "    </tr>\n",
              "    <tr>\n",
              "      <th>5</th>\n",
              "      <td>September 22nd,2020 corona update, Nepal\\n2 New deaths, \\n823 Recovered, \\n1356 new cases of COVID-19 Confirmed\\nTotal Cases: 66632, \\nActive Cases: 18571, \\nTotal Deaths: 429,\\nPCR tests on 22nd September: 11154\\nTotal PCR tests: 934977</td>\n",
              "      <td></td>\n",
              "      <td>Sep 22</td>\n",
              "      <td>14:23:58</td>\n",
              "      <td>september nd corona update nepal new death recovered new case of covid confirmed total case active case total death pcr test on nd september total pcr test</td>\n",
              "      <td>sad</td>\n",
              "    </tr>\n",
              "    <tr>\n",
              "      <th>10</th>\n",
              "      <td>Does art still hold a place during times when people are more focused on their struggle to survive the COVID-19 pandemic? #digitalmarketingagency https://t.co/MPbzG0bfGY https://t.co/x1OQN48mJM</td>\n",
              "      <td></td>\n",
              "      <td>Sep 22</td>\n",
              "      <td>14:22:41</td>\n",
              "      <td>doe art still hold place during time when people are more focused on their struggle to survive the covid pandemic digitalmarketingagency</td>\n",
              "      <td>sad</td>\n",
              "    </tr>\n",
              "    <tr>\n",
              "      <th>11</th>\n",
              "      <td>September 21st,2020 corona update, Nepal\\n16 New deaths, \\n1005 Recovered, \\n1154 new cases of COVID-19 Confirmed\\nTotal Cases: 65276, \\nActive Cases: 18038, \\nTotal Deaths: 427,\\nPCR tests on 21st September: 9533\\nTotal PCR tests: 923823</td>\n",
              "      <td>London</td>\n",
              "      <td>Sep 22</td>\n",
              "      <td>14:22:34</td>\n",
              "      <td>september st corona update nepal new death recovered new case of covid confirmed total case active case total death pcr test on st september total pcr test</td>\n",
              "      <td>sad</td>\n",
              "    </tr>\n",
              "    <tr>\n",
              "      <th>12</th>\n",
              "      <td>Scaling up the state’s fight against #COVID, Chief Minister @capt_amarinder Singh launched the Corona Fateh Kits, which the state government will start distributing immediately to all #COVID patients in isolation, whether at home or in hospitals.\\nhttps://t.co/t22nKsfPgA</td>\n",
              "      <td>Nepal</td>\n",
              "      <td>Sep 22</td>\n",
              "      <td>14:22:32</td>\n",
              "      <td>scaling up the state fight against covid chief minister singh launched the corona fateh kit which the state government will start distributing immediately to all covid patient in isolation whether at home or in hospital</td>\n",
              "      <td>sad</td>\n",
              "    </tr>\n",
              "    <tr>\n",
              "      <th>13</th>\n",
              "      <td>Covid news\\n\\nBangladesh has become the 29th nation to lose 5000 people to the virus.\\n\\n100 countries have now reported over 9000 cases of Corona. \\nPoland is the 44th nation with over 80,000 cases and  Indonesia is the 23rd nation to report a quarter of a million cases. https://t.co/oqGySpaZb6</td>\n",
              "      <td>Fatehgarh Sahib , Punjab</td>\n",
              "      <td>Sep 22</td>\n",
              "      <td>14:22:28</td>\n",
              "      <td>covid news bangladesh ha become the th nation to lose people to the virus country have now reported over case of corona poland is the th nation with over case and indonesia is the rd nation to report quarter of million case</td>\n",
              "      <td>sad</td>\n",
              "    </tr>\n",
              "    <tr>\n",
              "      <th>16</th>\n",
              "      <td>Scaling up the state’s fight against #COVID, Chief Minister @capt_amarinder Singh launched the Corona Fateh Kits, which the state government will start distributing immediately to all #COVID patients in isolation, whether at home or in hospitals.\\nhttps://t.co/6eImJKTtpH</td>\n",
              "      <td>Switzerland</td>\n",
              "      <td>Sep 22</td>\n",
              "      <td>14:21:39</td>\n",
              "      <td>scaling up the state fight against covid chief minister singh launched the corona fateh kit which the state government will start distributing immediately to all covid patient in isolation whether at home or in hospital</td>\n",
              "      <td>sad</td>\n",
              "    </tr>\n",
              "    <tr>\n",
              "      <th>17</th>\n",
              "      <td>Scaling up the state’s fight against #COVID, Chief Minister @capt_amarinder Singh launched the Corona Fateh Kits, which the state government will start distributing immediately to all #COVID patients in isolation, whether at home or in hospitals.\\nhttps://t.co/6V7SRzhMe4</td>\n",
              "      <td>Patiala, Punjab</td>\n",
              "      <td>Sep 22</td>\n",
              "      <td>14:21:15</td>\n",
              "      <td>scaling up the state fight against covid chief minister singh launched the corona fateh kit which the state government will start distributing immediately to all covid patient in isolation whether at home or in hospital</td>\n",
              "      <td>sad</td>\n",
              "    </tr>\n",
              "    <tr>\n",
              "      <th>21</th>\n",
              "      <td>Scaling up the state’s fight against #COVID, Chief Minister @capt_amarinder Singh launched the Corona Fateh Kits, which the state government will start distributing immediately to all #COVID patients in isolation, whether at home or in hospitals.\\nhttps://t.co/Dxxwycj1zi</td>\n",
              "      <td></td>\n",
              "      <td>Sep 22</td>\n",
              "      <td>14:20:47</td>\n",
              "      <td>scaling up the state fight against covid chief minister singh launched the corona fateh kit which the state government will start distributing immediately to all covid patient in isolation whether at home or in hospital</td>\n",
              "      <td>sad</td>\n",
              "    </tr>\n",
              "    <tr>\n",
              "      <th>22</th>\n",
              "      <td>Scaling up the state’s fight against #COVID, Chief Minister @capt_amarinder Singh launched the Corona Fateh Kits, which the state government will start distributing immediately to all #COVID patients in isolation, whether at home or in hospitals.\\nhttps://t.co/yPT3bYFqOJ</td>\n",
              "      <td>India</td>\n",
              "      <td>Sep 22</td>\n",
              "      <td>14:20:22</td>\n",
              "      <td>scaling up the state fight against covid chief minister singh launched the corona fateh kit which the state government will start distributing immediately to all covid patient in isolation whether at home or in hospital</td>\n",
              "      <td>sad</td>\n",
              "    </tr>\n",
              "  </tbody>\n",
              "</table>\n",
              "</div>"
            ],
            "text/plain": [
              "                                                                                                                                                                                                                                                                                                        text  ... analysis\n",
              "0   COVID-19 claims 6 more lives, infects 194 others: CM Sindh \\n\\n#APPNews @MuradAliShahPPP #coronavirus #Corona #CoronavirusPandemic \\n\\nhttps://t.co/M9brEO1Ghh via appcsocialmedia                                                                                                                        ...  sad    \n",
              "5   September 22nd,2020 corona update, Nepal\\n2 New deaths, \\n823 Recovered, \\n1356 new cases of COVID-19 Confirmed\\nTotal Cases: 66632, \\nActive Cases: 18571, \\nTotal Deaths: 429,\\nPCR tests on 22nd September: 11154\\nTotal PCR tests: 934977                                                             ...  sad    \n",
              "10  Does art still hold a place during times when people are more focused on their struggle to survive the COVID-19 pandemic? #digitalmarketingagency https://t.co/MPbzG0bfGY https://t.co/x1OQN48mJM                                                                                                         ...  sad    \n",
              "11  September 21st,2020 corona update, Nepal\\n16 New deaths, \\n1005 Recovered, \\n1154 new cases of COVID-19 Confirmed\\nTotal Cases: 65276, \\nActive Cases: 18038, \\nTotal Deaths: 427,\\nPCR tests on 21st September: 9533\\nTotal PCR tests: 923823                                                            ...  sad    \n",
              "12  Scaling up the state’s fight against #COVID, Chief Minister @capt_amarinder Singh launched the Corona Fateh Kits, which the state government will start distributing immediately to all #COVID patients in isolation, whether at home or in hospitals.\\nhttps://t.co/t22nKsfPgA                           ...  sad    \n",
              "13  Covid news\\n\\nBangladesh has become the 29th nation to lose 5000 people to the virus.\\n\\n100 countries have now reported over 9000 cases of Corona. \\nPoland is the 44th nation with over 80,000 cases and  Indonesia is the 23rd nation to report a quarter of a million cases. https://t.co/oqGySpaZb6  ...  sad    \n",
              "16  Scaling up the state’s fight against #COVID, Chief Minister @capt_amarinder Singh launched the Corona Fateh Kits, which the state government will start distributing immediately to all #COVID patients in isolation, whether at home or in hospitals.\\nhttps://t.co/6eImJKTtpH                           ...  sad    \n",
              "17  Scaling up the state’s fight against #COVID, Chief Minister @capt_amarinder Singh launched the Corona Fateh Kits, which the state government will start distributing immediately to all #COVID patients in isolation, whether at home or in hospitals.\\nhttps://t.co/6V7SRzhMe4                           ...  sad    \n",
              "21  Scaling up the state’s fight against #COVID, Chief Minister @capt_amarinder Singh launched the Corona Fateh Kits, which the state government will start distributing immediately to all #COVID patients in isolation, whether at home or in hospitals.\\nhttps://t.co/Dxxwycj1zi                           ...  sad    \n",
              "22  Scaling up the state’s fight against #COVID, Chief Minister @capt_amarinder Singh launched the Corona Fateh Kits, which the state government will start distributing immediately to all #COVID patients in isolation, whether at home or in hospitals.\\nhttps://t.co/yPT3bYFqOJ                           ...  sad    \n",
              "\n",
              "[10 rows x 6 columns]"
            ]
          },
          "metadata": {
            "tags": []
          },
          "execution_count": 68
        }
      ]
    },
    {
      "cell_type": "code",
      "metadata": {
        "id": "hI5JxU6VY4rc"
      },
      "source": [
        "You can access specific tweets by their id with the statuses/show/:id API route. Most Python Twitter libraries follow the exact same patterns, or offer 'friendly' names for the methods.\n",
        "\n",
        "For example, Twython offers several show_* methods, including Twython.show_status() that lets you load specific tweets:\n",
        "\n",
        "CONSUMER_KEY = \"<consumer key>\"\n",
        "CONSUMER_SECRET = \"<consumer secret>\"\n",
        "OAUTH_TOKEN = \"<application key>\"\n",
        "OAUTH_TOKEN_SECRET = \"<application secret\"\n",
        "twitter = Twython(\n",
        "    CONSUMER_KEY, CONSUMER_SECRET,\n",
        "    OAUTH_TOKEN, OAUTH_TOKEN_SECRET)\n",
        "\n",
        "tweet = twitter.show_status(id=id_of_tweet)\n",
        "print(tweet['text'])"
      ],
      "execution_count": null,
      "outputs": []
    }
  ]
}