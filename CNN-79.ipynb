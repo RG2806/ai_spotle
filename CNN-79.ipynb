{
  "nbformat": 4,
  "nbformat_minor": 0,
  "metadata": {
    "colab": {
      "name": "Untitled12.ipynb",
      "provenance": [],
      "authorship_tag": "ABX9TyNZ18+9vOhmvbVlBTXWx51l",
      "include_colab_link": true
    },
    "kernelspec": {
      "name": "python3",
      "display_name": "Python 3"
    },
    "accelerator": "GPU"
  },
  "cells": [
    {
      "cell_type": "markdown",
      "metadata": {
        "id": "view-in-github",
        "colab_type": "text"
      },
      "source": [
        "<a href=\"https://colab.research.google.com/github/RG2806/ai_spotle/blob/master/CNN-79.ipynb\" target=\"_parent\"><img src=\"https://colab.research.google.com/assets/colab-badge.svg\" alt=\"Open In Colab\"/></a>"
      ]
    },
    {
      "cell_type": "code",
      "metadata": {
        "id": "VCh_pXZ0Zqz1",
        "colab_type": "code",
        "colab": {
          "base_uri": "https://localhost:8080/",
          "height": 118
        },
        "outputId": "05625252-89d0-4a34-ff69-e4ee86e3348c"
      },
      "source": [
        "!git clone https://github.com/RG2806/ai_spotle.git"
      ],
      "execution_count": 1,
      "outputs": [
        {
          "output_type": "stream",
          "text": [
            "Cloning into 'ai_spotle'...\n",
            "remote: Enumerating objects: 21, done.\u001b[K\n",
            "remote: Counting objects: 100% (21/21), done.\u001b[K\n",
            "remote: Compressing objects: 100% (19/19), done.\u001b[K\n",
            "remote: Total 21 (delta 7), reused 2 (delta 0), pack-reused 0\u001b[K\n",
            "Unpacking objects: 100% (21/21), done.\n"
          ],
          "name": "stdout"
        }
      ]
    },
    {
      "cell_type": "code",
      "metadata": {
        "id": "k2zYZ0IRZ35w",
        "colab_type": "code",
        "colab": {}
      },
      "source": [
        "%matplotlib inline\n",
        "import matplotlib.pyplot as plt\n",
        "import cv2\n",
        "import numpy as np\n",
        "from keras.utils import to_categorical\n",
        "from sklearn.model_selection import train_test_split\n",
        "\n",
        "from keras.models import Sequential #Initialise our neural network model as a sequential network\n",
        "from keras.layers import Conv2D #Convolution operation\n",
        "from keras.layers.normalization import BatchNormalization\n",
        "from keras.regularizers import l2\n",
        "from keras.layers import Activation#Applies activation function\n",
        "from keras.layers import Dropout#Prevents overfitting by randomly converting few outputs to zero\n",
        "from keras.layers import MaxPooling2D # Maxpooling function\n",
        "from keras.layers import Flatten # Converting 2D arrays into a 1D linear vector\n",
        "from keras.layers import Dense # Regular fully connected neural network\n",
        "from keras import optimizers\n",
        "from keras.callbacks import ReduceLROnPlateau, EarlyStopping, TensorBoard, ModelCheckpoint\n",
        "from sklearn.metrics import accuracy_score\n",
        "\n",
        "import pandas as pd\n",
        "import keras \n",
        "from keras.models import Sequential\n",
        "from keras.layers import Conv2D, BatchNormalization, GlobalAveragePooling2D, MaxPooling2D, Dropout, Flatten, Dense\n",
        "from keras.callbacks import ModelCheckpoint, EarlyStopping, ReduceLROnPlateau\n",
        "from keras.utils import np_utils\n",
        "import keras.backend as k\n",
        "from keras.preprocessing import image\n",
        "from keras.preprocessing.image import ImageDataGenerator\n",
        "from keras.optimizers import Adam\n",
        "from keras.regularizers import l2\n"
      ],
      "execution_count": 2,
      "outputs": []
    },
    {
      "cell_type": "code",
      "metadata": {
        "id": "khmywcbkbgZD",
        "colab_type": "code",
        "colab": {}
      },
      "source": [
        "def load_data(dataset_path):\n",
        "  \n",
        "  classes = ['Fear', 'Happy', 'Sad']  #We will be dealing with seven different types of emotions.\n",
        "\n",
        "  data = []\n",
        "  labels =[]\n",
        "\n",
        "  with open(dataset_path, 'r') as file:\n",
        "      for line_no, line in enumerate(file.readlines()):\n",
        "          if 0 < line_no <= 35887:\n",
        "            line = line.split(',')\n",
        "            image_data = np.asarray([int(x) for x in line[1:]]).reshape(48, 48)#Creating a list out of the string then converting it into a 2-Dimensional numpy array.\n",
        "            image_data =image_data.astype(np.uint8)/255.0\n",
        "            data.append(image_data)\n",
        "            labels.append(classes.index(line[0]))\n",
        "            data.append(cv2.flip(image_data, 1))\n",
        "            labels.append(classes.index(line[0]))\n",
        "      data = np.expand_dims(data, -1)   \n",
        "      #labels = to_categorical(labels, num_classes = 3)\n",
        "    \n",
        "      return np.array(data), np.array(labels)"
      ],
      "execution_count": 3,
      "outputs": []
    },
    {
      "cell_type": "code",
      "metadata": {
        "id": "Gt_d1_J8cUU_",
        "colab_type": "code",
        "colab": {
          "base_uri": "https://localhost:8080/",
          "height": 34
        },
        "outputId": "05e05966-bd38-46df-d3b6-289a7401b3a0"
      },
      "source": [
        "dataset_path = \"/content/ai_spotle/aithon2020_level2_traning.csv\" \n",
        "train_data, train_labels = load_data(dataset_path)\n",
        "#train_data, test_data, train_labels, test_labels = train_test_split(data, labels, test_size = test_size,random_state = seed)\n",
        "\n",
        "print(\"Number of images in Training set:\", len(train_data))"
      ],
      "execution_count": 4,
      "outputs": [
        {
          "output_type": "stream",
          "text": [
            "Number of images in Training set: 21634\n"
          ],
          "name": "stdout"
        }
      ]
    },
    {
      "cell_type": "code",
      "metadata": {
        "id": "CPgk624hfuGI",
        "colab_type": "code",
        "colab": {
          "base_uri": "https://localhost:8080/",
          "height": 34
        },
        "outputId": "2224d68f-2c70-4733-e3a2-d7b58a69fdf6"
      },
      "source": [
        "train_labels.shape"
      ],
      "execution_count": 5,
      "outputs": [
        {
          "output_type": "execute_result",
          "data": {
            "text/plain": [
              "(21634,)"
            ]
          },
          "metadata": {
            "tags": []
          },
          "execution_count": 5
        }
      ]
    },
    {
      "cell_type": "code",
      "metadata": {
        "id": "g3uGfxm1cgVA",
        "colab_type": "code",
        "colab": {}
      },
      "source": [
        "from sklearn.model_selection import train_test_split\n",
        "\n",
        "x_train, x_test, y_train, y_test = train_test_split(train_data, train_labels, test_size=0.2, random_state=101)\n",
        "y_train = np_utils.to_categorical(y_train, 3)\n",
        "y_test = np_utils.to_categorical(y_test, 3)"
      ],
      "execution_count": 6,
      "outputs": []
    },
    {
      "cell_type": "code",
      "metadata": {
        "id": "saBwXLdIdwaY",
        "colab_type": "code",
        "colab": {
          "base_uri": "https://localhost:8080/",
          "height": 1000
        },
        "outputId": "81002d7c-bf6b-43f3-d29a-88c399269121"
      },
      "source": [
        "num_features = 64\n",
        "width, height = 48, 48\n",
        "model = Sequential()\n",
        "\n",
        "model.add(Conv2D(num_features, kernel_size=(3, 3), activation='relu', input_shape=(width, height, 1), data_format='channels_last', kernel_regularizer=l2(0.01)))\n",
        "model.add(Conv2D(num_features, kernel_size=(3, 3), activation='relu', padding='same'))\n",
        "model.add(BatchNormalization())\n",
        "model.add(MaxPooling2D(pool_size=(2, 2), strides=(2, 2)))\n",
        "model.add(Dropout(0.5))\n",
        "\n",
        "model.add(Conv2D(2*num_features, kernel_size=(3, 3), activation='relu', padding='same'))\n",
        "model.add(BatchNormalization())\n",
        "model.add(Conv2D(2*num_features, kernel_size=(3, 3), activation='relu', padding='same'))\n",
        "model.add(BatchNormalization())\n",
        "model.add(MaxPooling2D(pool_size=(2, 2), strides=(2, 2)))\n",
        "model.add(Dropout(0.5))\n",
        "\n",
        "model.add(Conv2D(2*2*num_features, kernel_size=(3, 3), activation='relu', padding='same'))\n",
        "model.add(BatchNormalization())\n",
        "model.add(Conv2D(2*2*num_features, kernel_size=(3, 3), activation='relu', padding='same'))\n",
        "model.add(BatchNormalization())\n",
        "model.add(MaxPooling2D(pool_size=(2, 2), strides=(2, 2)))\n",
        "model.add(Dropout(0.5))\n",
        "\n",
        "model.add(Conv2D(2*2*2*num_features, kernel_size=(3, 3), activation='relu', padding='same'))\n",
        "model.add(BatchNormalization())\n",
        "model.add(Conv2D(2*2*2*num_features, kernel_size=(3, 3), activation='relu', padding='same'))\n",
        "model.add(BatchNormalization())\n",
        "model.add(MaxPooling2D(pool_size=(2, 2), strides=(2, 2)))\n",
        "model.add(Dropout(0.5))\n",
        "\n",
        "model.add(Flatten())\n",
        "\n",
        "model.add(Dense(2*2*2*num_features, activation='relu'))\n",
        "model.add(Dropout(0.4))\n",
        "model.add(Dense(2*2*num_features, activation='relu'))\n",
        "model.add(Dropout(0.4))\n",
        "model.add(Dense(2*num_features, activation='relu'))\n",
        "model.add(Dropout(0.5))\n",
        "\n",
        "model.add(Dense(3, activation='softmax'))\n",
        "model.summary()"
      ],
      "execution_count": 7,
      "outputs": [
        {
          "output_type": "stream",
          "text": [
            "Model: \"sequential\"\n",
            "_________________________________________________________________\n",
            "Layer (type)                 Output Shape              Param #   \n",
            "=================================================================\n",
            "conv2d (Conv2D)              (None, 46, 46, 64)        640       \n",
            "_________________________________________________________________\n",
            "conv2d_1 (Conv2D)            (None, 46, 46, 64)        36928     \n",
            "_________________________________________________________________\n",
            "batch_normalization (BatchNo (None, 46, 46, 64)        256       \n",
            "_________________________________________________________________\n",
            "max_pooling2d (MaxPooling2D) (None, 23, 23, 64)        0         \n",
            "_________________________________________________________________\n",
            "dropout (Dropout)            (None, 23, 23, 64)        0         \n",
            "_________________________________________________________________\n",
            "conv2d_2 (Conv2D)            (None, 23, 23, 128)       73856     \n",
            "_________________________________________________________________\n",
            "batch_normalization_1 (Batch (None, 23, 23, 128)       512       \n",
            "_________________________________________________________________\n",
            "conv2d_3 (Conv2D)            (None, 23, 23, 128)       147584    \n",
            "_________________________________________________________________\n",
            "batch_normalization_2 (Batch (None, 23, 23, 128)       512       \n",
            "_________________________________________________________________\n",
            "max_pooling2d_1 (MaxPooling2 (None, 11, 11, 128)       0         \n",
            "_________________________________________________________________\n",
            "dropout_1 (Dropout)          (None, 11, 11, 128)       0         \n",
            "_________________________________________________________________\n",
            "conv2d_4 (Conv2D)            (None, 11, 11, 256)       295168    \n",
            "_________________________________________________________________\n",
            "batch_normalization_3 (Batch (None, 11, 11, 256)       1024      \n",
            "_________________________________________________________________\n",
            "conv2d_5 (Conv2D)            (None, 11, 11, 256)       590080    \n",
            "_________________________________________________________________\n",
            "batch_normalization_4 (Batch (None, 11, 11, 256)       1024      \n",
            "_________________________________________________________________\n",
            "max_pooling2d_2 (MaxPooling2 (None, 5, 5, 256)         0         \n",
            "_________________________________________________________________\n",
            "dropout_2 (Dropout)          (None, 5, 5, 256)         0         \n",
            "_________________________________________________________________\n",
            "conv2d_6 (Conv2D)            (None, 5, 5, 512)         1180160   \n",
            "_________________________________________________________________\n",
            "batch_normalization_5 (Batch (None, 5, 5, 512)         2048      \n",
            "_________________________________________________________________\n",
            "conv2d_7 (Conv2D)            (None, 5, 5, 512)         2359808   \n",
            "_________________________________________________________________\n",
            "batch_normalization_6 (Batch (None, 5, 5, 512)         2048      \n",
            "_________________________________________________________________\n",
            "max_pooling2d_3 (MaxPooling2 (None, 2, 2, 512)         0         \n",
            "_________________________________________________________________\n",
            "dropout_3 (Dropout)          (None, 2, 2, 512)         0         \n",
            "_________________________________________________________________\n",
            "flatten (Flatten)            (None, 2048)              0         \n",
            "_________________________________________________________________\n",
            "dense (Dense)                (None, 512)               1049088   \n",
            "_________________________________________________________________\n",
            "dropout_4 (Dropout)          (None, 512)               0         \n",
            "_________________________________________________________________\n",
            "dense_1 (Dense)              (None, 256)               131328    \n",
            "_________________________________________________________________\n",
            "dropout_5 (Dropout)          (None, 256)               0         \n",
            "_________________________________________________________________\n",
            "dense_2 (Dense)              (None, 128)               32896     \n",
            "_________________________________________________________________\n",
            "dropout_6 (Dropout)          (None, 128)               0         \n",
            "_________________________________________________________________\n",
            "dense_3 (Dense)              (None, 3)                 387       \n",
            "=================================================================\n",
            "Total params: 5,905,347\n",
            "Trainable params: 5,901,635\n",
            "Non-trainable params: 3,712\n",
            "_________________________________________________________________\n"
          ],
          "name": "stdout"
        }
      ]
    },
    {
      "cell_type": "code",
      "metadata": {
        "id": "TnzubNXee1rY",
        "colab_type": "code",
        "colab": {}
      },
      "source": [
        "model.compile(loss='categorical_crossentropy',\n",
        "              optimizer=Adam(lr=0.001, beta_1=0.9, beta_2=0.999, epsilon=1e-7),\n",
        "              metrics=['accuracy'])\n",
        "\n",
        "lr_reducer = ReduceLROnPlateau(monitor='val_loss', factor=0.9, patience=3, verbose=1)\n",
        "early_stopper = EarlyStopping(monitor='val_loss', min_delta=0, patience=8, verbose=1, mode='auto')\n",
        "checkpointer = ModelCheckpoint('../input/model.h5', monitor='val_loss', verbose=1, save_best_only=True)\n",
        "\n",
        "callbacks = [lr_reducer, early_stopper, checkpointer]"
      ],
      "execution_count": 8,
      "outputs": []
    },
    {
      "cell_type": "code",
      "metadata": {
        "id": "TH8UogCyfJQ1",
        "colab_type": "code",
        "colab": {
          "base_uri": "https://localhost:8080/",
          "height": 1000
        },
        "outputId": "945b1532-b6c7-449c-a605-8a5e265ad4de"
      },
      "source": [
        "# With Augmentation\n",
        "bs = 64\n",
        "epochs = 100\n",
        "\n",
        "aug = ImageDataGenerator(rotation_range=20, \n",
        "                         width_shift_range=0.1, \n",
        "                         height_shift_range=0.1, \n",
        "                         fill_mode=\"nearest\")\n",
        "\n",
        "H = model.fit(aug.flow(x_train, y_train, batch_size=bs),\n",
        "                        validation_data=(x_test, y_test), \n",
        "                        steps_per_epoch=len(x_train)//bs,\n",
        "                        callbacks=callbacks,\n",
        "                        shuffle=True,\n",
        "                        epochs=epochs)"
      ],
      "execution_count": 10,
      "outputs": [
        {
          "output_type": "stream",
          "text": [
            "Epoch 1/100\n",
            "270/270 [==============================] - ETA: 0s - loss: 1.0344 - accuracy: 0.4753\n",
            "Epoch 00001: val_loss did not improve from 1.06613\n",
            "270/270 [==============================] - 27s 100ms/step - loss: 1.0344 - accuracy: 0.4753 - val_loss: 1.1875 - val_accuracy: 0.4756\n",
            "Epoch 2/100\n",
            "270/270 [==============================] - ETA: 0s - loss: 0.9816 - accuracy: 0.5196\n",
            "Epoch 00002: val_loss improved from 1.06613 to 0.95980, saving model to ../input/model.h5\n",
            "270/270 [==============================] - 27s 101ms/step - loss: 0.9816 - accuracy: 0.5196 - val_loss: 0.9598 - val_accuracy: 0.5313\n",
            "Epoch 3/100\n",
            "270/270 [==============================] - ETA: 0s - loss: 0.9201 - accuracy: 0.5543\n",
            "Epoch 00003: val_loss did not improve from 0.95980\n",
            "270/270 [==============================] - 27s 100ms/step - loss: 0.9201 - accuracy: 0.5543 - val_loss: 1.0153 - val_accuracy: 0.4786\n",
            "Epoch 4/100\n",
            "270/270 [==============================] - ETA: 0s - loss: 0.8624 - accuracy: 0.5842\n",
            "Epoch 00004: val_loss improved from 0.95980 to 0.76055, saving model to ../input/model.h5\n",
            "270/270 [==============================] - 27s 100ms/step - loss: 0.8624 - accuracy: 0.5842 - val_loss: 0.7606 - val_accuracy: 0.6268\n",
            "Epoch 5/100\n",
            "270/270 [==============================] - ETA: 0s - loss: 0.8169 - accuracy: 0.6092\n",
            "Epoch 00005: val_loss did not improve from 0.76055\n",
            "270/270 [==============================] - 27s 100ms/step - loss: 0.8169 - accuracy: 0.6092 - val_loss: 1.0804 - val_accuracy: 0.4668\n",
            "Epoch 6/100\n",
            "270/270 [==============================] - ETA: 0s - loss: 0.7819 - accuracy: 0.6274\n",
            "Epoch 00006: val_loss did not improve from 0.76055\n",
            "270/270 [==============================] - 27s 100ms/step - loss: 0.7819 - accuracy: 0.6274 - val_loss: 0.8214 - val_accuracy: 0.6422\n",
            "Epoch 7/100\n",
            "270/270 [==============================] - ETA: 0s - loss: 0.7491 - accuracy: 0.6524\n",
            "Epoch 00007: val_loss improved from 0.76055 to 0.66930, saving model to ../input/model.h5\n",
            "270/270 [==============================] - 27s 100ms/step - loss: 0.7491 - accuracy: 0.6524 - val_loss: 0.6693 - val_accuracy: 0.6996\n",
            "Epoch 8/100\n",
            "270/270 [==============================] - ETA: 0s - loss: 0.7398 - accuracy: 0.6652\n",
            "Epoch 00008: val_loss did not improve from 0.66930\n",
            "270/270 [==============================] - 27s 100ms/step - loss: 0.7398 - accuracy: 0.6652 - val_loss: 0.7021 - val_accuracy: 0.6864\n",
            "Epoch 9/100\n",
            "270/270 [==============================] - ETA: 0s - loss: 0.7129 - accuracy: 0.6829\n",
            "Epoch 00009: val_loss improved from 0.66930 to 0.62979, saving model to ../input/model.h5\n",
            "270/270 [==============================] - 27s 100ms/step - loss: 0.7129 - accuracy: 0.6829 - val_loss: 0.6298 - val_accuracy: 0.7217\n",
            "Epoch 10/100\n",
            "270/270 [==============================] - ETA: 0s - loss: 0.6917 - accuracy: 0.6957\n",
            "Epoch 00010: val_loss did not improve from 0.62979\n",
            "270/270 [==============================] - 27s 100ms/step - loss: 0.6917 - accuracy: 0.6957 - val_loss: 0.6795 - val_accuracy: 0.6739\n",
            "Epoch 11/100\n",
            "270/270 [==============================] - ETA: 0s - loss: 0.6800 - accuracy: 0.7014\n",
            "Epoch 00011: val_loss did not improve from 0.62979\n",
            "270/270 [==============================] - 27s 100ms/step - loss: 0.6800 - accuracy: 0.7014 - val_loss: 0.6436 - val_accuracy: 0.7093\n",
            "Epoch 12/100\n",
            "270/270 [==============================] - ETA: 0s - loss: 0.6701 - accuracy: 0.7079\n",
            "Epoch 00012: val_loss improved from 0.62979 to 0.59975, saving model to ../input/model.h5\n",
            "270/270 [==============================] - 27s 100ms/step - loss: 0.6701 - accuracy: 0.7079 - val_loss: 0.5997 - val_accuracy: 0.7414\n",
            "Epoch 13/100\n",
            "270/270 [==============================] - ETA: 0s - loss: 0.6582 - accuracy: 0.7137\n",
            "Epoch 00013: val_loss improved from 0.59975 to 0.57944, saving model to ../input/model.h5\n",
            "270/270 [==============================] - 27s 100ms/step - loss: 0.6582 - accuracy: 0.7137 - val_loss: 0.5794 - val_accuracy: 0.7460\n",
            "Epoch 14/100\n",
            "270/270 [==============================] - ETA: 0s - loss: 0.6344 - accuracy: 0.7252\n",
            "Epoch 00014: val_loss did not improve from 0.57944\n",
            "270/270 [==============================] - 27s 100ms/step - loss: 0.6344 - accuracy: 0.7252 - val_loss: 0.6147 - val_accuracy: 0.7234\n",
            "Epoch 15/100\n",
            "270/270 [==============================] - ETA: 0s - loss: 0.6322 - accuracy: 0.7279\n",
            "Epoch 00015: val_loss did not improve from 0.57944\n",
            "270/270 [==============================] - 27s 100ms/step - loss: 0.6322 - accuracy: 0.7279 - val_loss: 0.5995 - val_accuracy: 0.7275\n",
            "Epoch 16/100\n",
            "270/270 [==============================] - ETA: 0s - loss: 0.6156 - accuracy: 0.7284\n",
            "Epoch 00016: ReduceLROnPlateau reducing learning rate to 0.0009000000427477062.\n",
            "\n",
            "Epoch 00016: val_loss did not improve from 0.57944\n",
            "270/270 [==============================] - 27s 100ms/step - loss: 0.6156 - accuracy: 0.7284 - val_loss: 0.7161 - val_accuracy: 0.6869\n",
            "Epoch 17/100\n",
            "270/270 [==============================] - ETA: 0s - loss: 0.6089 - accuracy: 0.7393\n",
            "Epoch 00017: val_loss improved from 0.57944 to 0.57725, saving model to ../input/model.h5\n",
            "270/270 [==============================] - 27s 100ms/step - loss: 0.6089 - accuracy: 0.7393 - val_loss: 0.5773 - val_accuracy: 0.7368\n",
            "Epoch 18/100\n",
            "270/270 [==============================] - ETA: 0s - loss: 0.6043 - accuracy: 0.7416\n",
            "Epoch 00018: val_loss improved from 0.57725 to 0.54970, saving model to ../input/model.h5\n",
            "270/270 [==============================] - 27s 100ms/step - loss: 0.6043 - accuracy: 0.7416 - val_loss: 0.5497 - val_accuracy: 0.7576\n",
            "Epoch 19/100\n",
            "270/270 [==============================] - ETA: 0s - loss: 0.5950 - accuracy: 0.7439\n",
            "Epoch 00019: val_loss did not improve from 0.54970\n",
            "270/270 [==============================] - 27s 100ms/step - loss: 0.5950 - accuracy: 0.7439 - val_loss: 0.6108 - val_accuracy: 0.7167\n",
            "Epoch 20/100\n",
            "270/270 [==============================] - ETA: 0s - loss: 0.5882 - accuracy: 0.7484\n",
            "Epoch 00020: val_loss did not improve from 0.54970\n",
            "270/270 [==============================] - 27s 100ms/step - loss: 0.5882 - accuracy: 0.7484 - val_loss: 0.6043 - val_accuracy: 0.7345\n",
            "Epoch 21/100\n",
            "270/270 [==============================] - ETA: 0s - loss: 0.5767 - accuracy: 0.7500\n",
            "Epoch 00021: ReduceLROnPlateau reducing learning rate to 0.0008100000384729356.\n",
            "\n",
            "Epoch 00021: val_loss did not improve from 0.54970\n",
            "270/270 [==============================] - 27s 100ms/step - loss: 0.5767 - accuracy: 0.7500 - val_loss: 0.5687 - val_accuracy: 0.7379\n",
            "Epoch 22/100\n",
            "270/270 [==============================] - ETA: 0s - loss: 0.5620 - accuracy: 0.7601\n",
            "Epoch 00022: val_loss improved from 0.54970 to 0.51981, saving model to ../input/model.h5\n",
            "270/270 [==============================] - 27s 100ms/step - loss: 0.5620 - accuracy: 0.7601 - val_loss: 0.5198 - val_accuracy: 0.7696\n",
            "Epoch 23/100\n",
            "270/270 [==============================] - ETA: 0s - loss: 0.5501 - accuracy: 0.7634\n",
            "Epoch 00023: val_loss did not improve from 0.51981\n",
            "270/270 [==============================] - 27s 100ms/step - loss: 0.5501 - accuracy: 0.7634 - val_loss: 0.5418 - val_accuracy: 0.7687\n",
            "Epoch 24/100\n",
            "270/270 [==============================] - ETA: 0s - loss: 0.5550 - accuracy: 0.7651\n",
            "Epoch 00024: val_loss did not improve from 0.51981\n",
            "270/270 [==============================] - 27s 100ms/step - loss: 0.5550 - accuracy: 0.7651 - val_loss: 0.6471 - val_accuracy: 0.7266\n",
            "Epoch 25/100\n",
            "270/270 [==============================] - ETA: 0s - loss: 0.5459 - accuracy: 0.7678\n",
            "Epoch 00025: ReduceLROnPlateau reducing learning rate to 0.0007290000503417104.\n",
            "\n",
            "Epoch 00025: val_loss did not improve from 0.51981\n",
            "270/270 [==============================] - 27s 100ms/step - loss: 0.5459 - accuracy: 0.7678 - val_loss: 0.5287 - val_accuracy: 0.7731\n",
            "Epoch 26/100\n",
            "270/270 [==============================] - ETA: 0s - loss: 0.5343 - accuracy: 0.7683\n",
            "Epoch 00026: val_loss did not improve from 0.51981\n",
            "270/270 [==============================] - 27s 100ms/step - loss: 0.5343 - accuracy: 0.7683 - val_loss: 0.5235 - val_accuracy: 0.7610\n",
            "Epoch 27/100\n",
            "270/270 [==============================] - ETA: 0s - loss: 0.5377 - accuracy: 0.7659\n",
            "Epoch 00027: val_loss did not improve from 0.51981\n",
            "270/270 [==============================] - 27s 100ms/step - loss: 0.5377 - accuracy: 0.7659 - val_loss: 0.5416 - val_accuracy: 0.7555\n",
            "Epoch 28/100\n",
            "270/270 [==============================] - ETA: 0s - loss: 0.5221 - accuracy: 0.7778\n",
            "Epoch 00028: ReduceLROnPlateau reducing learning rate to 0.0006561000715009868.\n",
            "\n",
            "Epoch 00028: val_loss did not improve from 0.51981\n",
            "270/270 [==============================] - 27s 100ms/step - loss: 0.5221 - accuracy: 0.7778 - val_loss: 0.5204 - val_accuracy: 0.7647\n",
            "Epoch 29/100\n",
            "270/270 [==============================] - ETA: 0s - loss: 0.5094 - accuracy: 0.7846\n",
            "Epoch 00029: val_loss improved from 0.51981 to 0.49543, saving model to ../input/model.h5\n",
            "270/270 [==============================] - 27s 100ms/step - loss: 0.5094 - accuracy: 0.7846 - val_loss: 0.4954 - val_accuracy: 0.7798\n",
            "Epoch 30/100\n",
            "270/270 [==============================] - ETA: 0s - loss: 0.5099 - accuracy: 0.7815\n",
            "Epoch 00030: val_loss did not improve from 0.49543\n",
            "270/270 [==============================] - 27s 100ms/step - loss: 0.5099 - accuracy: 0.7815 - val_loss: 0.5020 - val_accuracy: 0.7749\n",
            "Epoch 31/100\n",
            "270/270 [==============================] - ETA: 0s - loss: 0.5028 - accuracy: 0.7829\n",
            "Epoch 00031: val_loss did not improve from 0.49543\n",
            "270/270 [==============================] - 27s 100ms/step - loss: 0.5028 - accuracy: 0.7829 - val_loss: 0.5411 - val_accuracy: 0.7569\n",
            "Epoch 32/100\n",
            "270/270 [==============================] - ETA: 0s - loss: 0.5004 - accuracy: 0.7858\n",
            "Epoch 00032: ReduceLROnPlateau reducing learning rate to 0.0005904900433961303.\n",
            "\n",
            "Epoch 00032: val_loss did not improve from 0.49543\n",
            "270/270 [==============================] - 27s 100ms/step - loss: 0.5004 - accuracy: 0.7858 - val_loss: 0.5247 - val_accuracy: 0.7821\n",
            "Epoch 33/100\n",
            "270/270 [==============================] - ETA: 0s - loss: 0.4857 - accuracy: 0.7918\n",
            "Epoch 00033: val_loss did not improve from 0.49543\n",
            "270/270 [==============================] - 27s 100ms/step - loss: 0.4857 - accuracy: 0.7918 - val_loss: 0.5248 - val_accuracy: 0.7707\n",
            "Epoch 34/100\n",
            "270/270 [==============================] - ETA: 0s - loss: 0.4813 - accuracy: 0.7950\n",
            "Epoch 00034: val_loss improved from 0.49543 to 0.48547, saving model to ../input/model.h5\n",
            "270/270 [==============================] - 27s 100ms/step - loss: 0.4813 - accuracy: 0.7950 - val_loss: 0.4855 - val_accuracy: 0.7939\n",
            "Epoch 35/100\n",
            "270/270 [==============================] - ETA: 0s - loss: 0.4723 - accuracy: 0.8013\n",
            "Epoch 00035: val_loss did not improve from 0.48547\n",
            "270/270 [==============================] - 27s 100ms/step - loss: 0.4723 - accuracy: 0.8013 - val_loss: 0.4974 - val_accuracy: 0.7918\n",
            "Epoch 36/100\n",
            "270/270 [==============================] - ETA: 0s - loss: 0.4669 - accuracy: 0.8031\n",
            "Epoch 00036: val_loss improved from 0.48547 to 0.46784, saving model to ../input/model.h5\n",
            "270/270 [==============================] - 27s 100ms/step - loss: 0.4669 - accuracy: 0.8031 - val_loss: 0.4678 - val_accuracy: 0.7950\n",
            "Epoch 37/100\n",
            "270/270 [==============================] - ETA: 0s - loss: 0.4633 - accuracy: 0.8024\n",
            "Epoch 00037: val_loss improved from 0.46784 to 0.46700, saving model to ../input/model.h5\n",
            "270/270 [==============================] - 27s 100ms/step - loss: 0.4633 - accuracy: 0.8024 - val_loss: 0.4670 - val_accuracy: 0.7948\n",
            "Epoch 38/100\n",
            "270/270 [==============================] - ETA: 0s - loss: 0.4596 - accuracy: 0.8035\n",
            "Epoch 00038: val_loss did not improve from 0.46700\n",
            "270/270 [==============================] - 27s 100ms/step - loss: 0.4596 - accuracy: 0.8035 - val_loss: 0.4718 - val_accuracy: 0.8008\n",
            "Epoch 39/100\n",
            "270/270 [==============================] - ETA: 0s - loss: 0.4632 - accuracy: 0.8053\n",
            "Epoch 00039: val_loss did not improve from 0.46700\n",
            "270/270 [==============================] - 27s 100ms/step - loss: 0.4632 - accuracy: 0.8053 - val_loss: 0.4996 - val_accuracy: 0.7908\n",
            "Epoch 40/100\n",
            "270/270 [==============================] - ETA: 0s - loss: 0.4529 - accuracy: 0.8089\n",
            "Epoch 00040: ReduceLROnPlateau reducing learning rate to 0.0005314410547725857.\n",
            "\n",
            "Epoch 00040: val_loss did not improve from 0.46700\n",
            "270/270 [==============================] - 27s 99ms/step - loss: 0.4529 - accuracy: 0.8089 - val_loss: 0.5110 - val_accuracy: 0.7779\n",
            "Epoch 41/100\n",
            "270/270 [==============================] - ETA: 0s - loss: 0.4459 - accuracy: 0.8116\n",
            "Epoch 00041: val_loss did not improve from 0.46700\n",
            "270/270 [==============================] - 27s 100ms/step - loss: 0.4459 - accuracy: 0.8116 - val_loss: 0.5008 - val_accuracy: 0.7814\n",
            "Epoch 42/100\n",
            "270/270 [==============================] - ETA: 0s - loss: 0.4418 - accuracy: 0.8119\n",
            "Epoch 00042: val_loss did not improve from 0.46700\n",
            "270/270 [==============================] - 27s 100ms/step - loss: 0.4418 - accuracy: 0.8119 - val_loss: 0.5085 - val_accuracy: 0.7855\n",
            "Epoch 43/100\n",
            "270/270 [==============================] - ETA: 0s - loss: 0.4410 - accuracy: 0.8160\n",
            "Epoch 00043: ReduceLROnPlateau reducing learning rate to 0.00047829695977270604.\n",
            "\n",
            "Epoch 00043: val_loss did not improve from 0.46700\n",
            "270/270 [==============================] - 27s 100ms/step - loss: 0.4410 - accuracy: 0.8160 - val_loss: 0.4790 - val_accuracy: 0.7925\n",
            "Epoch 44/100\n",
            "270/270 [==============================] - ETA: 0s - loss: 0.4281 - accuracy: 0.8189\n",
            "Epoch 00044: val_loss did not improve from 0.46700\n",
            "270/270 [==============================] - 27s 100ms/step - loss: 0.4281 - accuracy: 0.8189 - val_loss: 0.4704 - val_accuracy: 0.7999\n",
            "Epoch 45/100\n",
            "270/270 [==============================] - ETA: 0s - loss: 0.4228 - accuracy: 0.8236\n",
            "Epoch 00045: val_loss did not improve from 0.46700\n",
            "270/270 [==============================] - 27s 100ms/step - loss: 0.4228 - accuracy: 0.8236 - val_loss: 0.4858 - val_accuracy: 0.7908\n",
            "Epoch 00045: early stopping\n"
          ],
          "name": "stdout"
        }
      ]
    },
    {
      "cell_type": "code",
      "metadata": {
        "id": "TzBA5GRFfOdT",
        "colab_type": "code",
        "colab": {
          "base_uri": "https://localhost:8080/",
          "height": 67
        },
        "outputId": "4e29a4ae-0f93-4502-bbc3-ec567569e555"
      },
      "source": [
        "scores = model.evaluate(x_test, y_test, batch_size=bs)\n",
        "print(\"Loss: \" + str(scores[0]))\n",
        "print(\"Accuracy: \" + str(scores[1]))"
      ],
      "execution_count": 11,
      "outputs": [
        {
          "output_type": "stream",
          "text": [
            "68/68 [==============================] - 2s 34ms/step - loss: 0.4858 - accuracy: 0.7908\n",
            "Loss: 0.48579734563827515\n",
            "Accuracy: 0.7908481359481812\n"
          ],
          "name": "stdout"
        }
      ]
    },
    {
      "cell_type": "code",
      "metadata": {
        "id": "knI83WZCjNuk",
        "colab_type": "code",
        "colab": {
          "base_uri": "https://localhost:8080/",
          "height": 34
        },
        "outputId": "0af13d19-c6ca-4c49-e9a1-28ca600ce90c"
      },
      "source": [
        "model.save_weights(\"/content/model.h5\")\n",
        "print(\"Saved model to disk\")"
      ],
      "execution_count": 12,
      "outputs": [
        {
          "output_type": "stream",
          "text": [
            "Saved model to disk\n"
          ],
          "name": "stdout"
        }
      ]
    },
    {
      "cell_type": "code",
      "metadata": {
        "id": "u0taaw-mjrGB",
        "colab_type": "code",
        "colab": {}
      },
      "source": [
        ""
      ],
      "execution_count": 12,
      "outputs": []
    }
  ]
}